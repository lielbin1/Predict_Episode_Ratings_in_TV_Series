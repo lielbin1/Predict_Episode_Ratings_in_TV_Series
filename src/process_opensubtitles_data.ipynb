{
 "cells": [
  {
   "cell_type": "markdown",
   "id": "bb2b9dd8-d0d9-43c0-ae72-86c1b54495aa",
   "metadata": {},
   "source": [
    "## open_subtitles data analysis"
   ]
  },
  {
   "cell_type": "code",
   "execution_count": 2,
   "id": "8f6184ee-95c5-4300-8487-af6457d1ecd1",
   "metadata": {},
   "outputs": [],
   "source": [
    "# !pip install pysrt\n",
    "# !pip install import-ipynb\n"
   ]
  },
  {
   "cell_type": "code",
   "execution_count": null,
   "id": "89897dd0-fabb-4767-8b0c-8a35b97eb610",
   "metadata": {},
   "outputs": [],
   "source": [
    "import zipfile\n",
    "import os\n",
    "import import_ipynb\n",
    "import process_wizdom_heb_data"
   ]
  },
  {
   "cell_type": "code",
   "execution_count": 3,
   "id": "fd93d54c-e322-46ca-a676-59d5a05da2e5",
   "metadata": {},
   "outputs": [],
   "source": [
    "current_dir = os.getcwd()\n",
    "parent_dir = os.path.dirname(current_dir)\n",
    "prefix_path = parent_dir"
   ]
  },
  {
   "cell_type": "code",
   "execution_count": null,
   "id": "432c85f3-8d63-4767-8555-b25958968ebe",
   "metadata": {},
   "outputs": [],
   "source": [
    "!unzip f\"{prefix_path}monitor.s01.e03.elgar.portrait.of.a.composer.(1962).eng.1cd.(11331347).zip\" -d f\"{prefix_path}unzipped_files\""
   ]
  },
  {
   "cell_type": "code",
   "execution_count": 34,
   "id": "5697522b-6783-4b1f-a7fe-7abcdcf272d4",
   "metadata": {},
   "outputs": [
    {
     "name": "stdout",
     "output_type": "stream",
     "text": [
      "Index: 1\n",
      "Start: 00:00:16,280\n",
      "End: 00:00:18,282\n",
      "Text: (I ELGAR: \"lntr0ducti0n and Allegro\")\n",
      "--------------------\n",
      "Index: 2\n",
      "Start: 00:00:21,880\n",
      "End: 00:00:24,201\n",
      "Text: (Huw Wheldon) When Elgar was a boy,\n",
      "he spent hours on his own,\n",
      "--------------------\n",
      "Index: 3\n",
      "Start: 00:00:24,320\n",
      "End: 00:00:28,325\n",
      "Text: riding on his father's pony,\n",
      "along the ridges of the Malvern Hills.\n",
      "--------------------\n",
      "Index: 4\n",
      "Start: 00:02:09,640\n",
      "End: 00:02:11,529\n",
      "Text: Elgar was born in 1857,\n",
      "--------------------\n",
      "Index: 5\n",
      "Start: 00:02:11,640\n",
      "End: 00:02:14,723\n",
      "Text: in the shadow of the hills which were to\n",
      "have such an influence on his music,\n",
      "--------------------\n",
      "Index: 6\n",
      "Start: 00:02:14,840\n",
      "End: 00:02:16,251\n",
      "Text: all through his life.\n",
      "--------------------\n",
      "Index: 7\n",
      "Start: 00:02:16,360\n",
      "End: 00:02:18,442\n",
      "Text: There was little enough in his\n",
      "circumstances to suggest\n",
      "--------------------\n",
      "Index: 8\n",
      "Start: 00:02:18,680\n",
      "End: 00:02:21,809\n",
      "Text: the future Sir Edward Elgar,\n",
      "Master of the King's Music.\n",
      "--------------------\n",
      "Index: 9\n",
      "Start: 00:02:21,920\n",
      "End: 00:02:24,002\n",
      "Text: He grew up in Worcester,\n",
      "--------------------\n",
      "Index: 10\n",
      "Start: 00:02:24,120\n",
      "End: 00:02:25,610\n",
      "Text: a stuffy enough place,\n",
      "in those days.\n",
      "--------------------\n"
     ]
    }
   ],
   "source": [
    "import pysrt\n",
    "\n",
    "# File path\n",
    "srt_file = f\"{prefix_path}unzipped_files/Elgar.1962.1080p.Bluray.x264-GHOULS.srt\"\n",
    "\n",
    "# Read the file\n",
    "subtitles = pysrt.open(srt_file)\n",
    "\n",
    "# Print the subtitles\n",
    "for subtitle in subtitles[:10]:\n",
    "    print(f\"Index: {subtitle.index}\")\n",
    "    print(f\"Start: {subtitle.start}\")\n",
    "    print(f\"End: {subtitle.end}\")\n",
    "    print(f\"Text: {subtitle.text}\")\n",
    "    print(\"-\" * 20)\n"
   ]
  },
  {
   "cell_type": "code",
   "execution_count": 35,
   "id": "40c90920-3514-4090-928c-cc55a6574632",
   "metadata": {},
   "outputs": [],
   "source": [
    "subtitles_all_episode = \"\"\n",
    "for subtitle in subtitles:\n",
    "    subtitles_all_episode += subtitle.text"
   ]
  },
  {
   "cell_type": "code",
   "execution_count": 36,
   "id": "3d03f3d9-f460-472f-b4f1-2937bd54a881",
   "metadata": {},
   "outputs": [
    {
     "data": {
      "text/plain": [
       "'(I ELGAR: \"lntr0ducti0n and Allegro\")(Huw Wheldon) When Elgar was a boy,\\nhe spent hours on his own,riding on his father\\'s pony,\\nalong the ridges of the Malvern Hills.Elgar was born in 1857,in the shadow of the hills which were to\\nhave such an influence on his music,all through his life.There was little enough in his\\ncircumstances to suggestthe future Sir Edward Elgar,\\nMaster of the King\\'s Music.He grew up in Worcester,a stuffy enough place,\\nin those days.A place for the rich and the well-to-do,the Elgars were neither.Their social status was clear:they were a lower-middle-class family.Elgar\\'s father kept a little music shop\\nin the high street.By trade, he was a piano tuner.Elgar was almost entirely self-taught.(I HAYDN: \"Trumpet Concerto\")His teachers were the books and\\ninstruments lying about in the shop.He was, apparently, one of those peopleto whom playing an instrument\\ncame naturally.He said, later,\\nthat his knowledge of orchestrationwas founded\\non these childhood experiences.(Bell tolls)The family lived above the shop.Father, Mother, and five children.\\nAll musical.They had musical evenings,\\ntwice a week.Elgar\\'s first known composition\\nwas a song he wrote for his sister Lucyto sing on her 21st birthday.He was 15.He wrote the words as well as the music,<i>and it was called\\nThe Language of Flowers.</i>(Woman)\\nJ“ The rose is a sign of joy and loveJ” Young blushing love\\nin its earliest dawnJ“ And the mildness that suits\\nthe gentle doveJ“ From the myrtle\\'s snowy flower is drawnJ“ And the mildness that suits\\nthe gentle doveJ“ From the myrtle\\'s snowy flower\\nis drawn J“(Wheldon) He wrote music\\nfor everybody in the household,including a two-part fugue,\\nwhich he wrote for a lodgerwho played the violin,\\nand for his brother Frank,who played the oboe.This was an academic exercise,but there was no question of his going to\\nany academy or university,and at 15 or 16,\\nhe started to serve behind the counterat his father\\'s shop.He became a high-spirited\\nand very boisterous young man,much given to what he called japes:dressing up and jumping out of trees\\nonto the backs of his friends, and so on.(Choir) ♪ O, salutaris... J“(Wheldon) On Sundays, he played the\\norgan at the Catholic church.He was born and bred a Roman Catholicand it was no accident that the motets\\nand anthems he wrote for this churchare the first works which revealed a note\\nof an independent musical mindin the making.J“ ...H0stiaJ“ Da robur, fer auxiliumJ“ Bella premuntJ“ HostiliaJ“ Da robur♪ Fer auxiliumJ“ Auxilium(p Polka)(Wheldon)\\nHe also took up small-time conducting.His first official conducting appointmentwas with the band of\\nthe local Powick Lunatic Asylum,for whom he also wrote the music.Elgar walked the three miles to the asylum,twice a week, for seven years.For every quadrille and polka\\nhe was paid five shillings.For accompaniment to the black-and-\\nwhite-minstrel songs then in fashion,he got one and six.Serious composing was still a dream.By now, he was becoming\\nmuch in demand as a music teacher,and what with that\\nand his bold good looks,he cut quite a dashing figure.With four friends,\\nhe formed a serenading group.Elgar wrote the music\\nand played the bassoon,when they played,\\neither for their own amusementor, in a mildly flirtatious way,\\nto young women of their acquaintance.(I ELGAR: \"Minuet\")(Music obscures speech)(Wheldon) In 1886, when he was 29,Elgar met the woman\\nwho was to transform his life.For ten years,\\nhis horizon had been firmly boundedby the Malvern Hills.He was full of music\\nand full of ambitionbut somehow lacked the drive\\nto cut himself loose.Miss Roberts was to change all this.Caroline Alice was her nameand she was a major general\\'s daughter.Eight years older than Elgar,she\\'d taken lessons on the piano from himand like many pupils before her,she fell in love with him.She\\'d been brought up in a family\\ndedicated to the ideal of service,but hitherto, her life, though earnest,\\nhad seemed purposeless.Now, she\\'d found a cause,and a worthy one at that.She would marry Elgar\\nand make him a great composer.(I ELGAR: \"Salut d\\'Am0ur\")Her influence on Elgar\\'s music\\nwas immediate.<i>This piece ,5\\'a/uf dfi4mour,</i>was written by Elgar\\nas an engagement present for her.(Orchestra plays Sa/uf dfi4mour)\"We rode up to the Beacon on donkeys,\"\\nElgar wrote on a postcard.\"Never have I been so happy.\"\"I must tell you,\"\\nhe wrote to another friend,\"what a dear, loving companion I have,\\nand how sweet everything seems\"and how understandable\\nexistence seems to have grown.\"(Wheldon)\\nIt was a long and difficult courtship.Alice had the hostility of her family\\nto contend with.They disapproved violently\\nof her marrying this music teacher,with his boisterous ways\\nand his dubious prospects,who was, moreover, a tradesman\\'s son\\nand a Roman Catholic.Against all opposition,\\nthey were finally married in 1889.He was 32 and she was 40,and she was immediately disinherited\\nby her family.They spent their honeymoon placidly,\\nat Ventnor, on the Isle of Wight.Elgar gave up all his teaching jobs\\nin Worcestershireand, full of hopes for the future,\\nthey set out for London.(Clip-clop of hooves)Their plan, Mrs Elgar\\'s plan,was to finish with music teaching\\nand concentrate on composing.But London, in 1890, was not impressed\\nby Mr Elgar from Worcester.At his wife\\'s suggestion, he brought with\\nhim a whole portfolio of compositions,salon music mostly,\\nlike Sa/uf dfi4mour,and these he sent off\\nto a dozen different publishers.There was little he could do\\nexcept sit back and wait,and as the manuscripts were returned\\nwith a deadening regularity,their optimism slowly drained away.It was an anxious time.There was no income coming in\\nand they couldn\\'t afford their lease.Mrs Elgar was now pregnantand couldn\\'t conceal her anxiety\\nand depression from her diary.All her plans were coming to nothing.At long last, a chance came his way.Elgar was invited to rehearse one of his\\npieces with a big London orchestra.If it was liked, it would be performed\\nat one of the promenade concerts,which were, apparently, held,\\nin those days, at Covent Garden.It was a turning point.(Fast waltz)(Wheldon)\\nElgar arrived at the opera house,but had to wait until the orchestra\\nhad finished its routine rehearsal.He\\'d already been waiting for some timewhen an official came down\\nto speak to him.It seemed that the great Sir Arthur Sullivan\\nhad arrived unexpectedlyand wanted to run through a few things\\nwith the orchestra.So there was no question of\\nMr Elgar\\'s music being tried out.He was really so sorry.\\nSo very sorry.He became ill as well as depressed.He suffered a good deal\\nfrom a septic wisdom toothand his eyes began to give him trouble,\\nwhich was to last all his life.He went to as many concerts as he couldand practised the violin\\nfor many hours a day,but recognition as a composer\\ndid not come.Desperate for work,\\nhe advertised in the London press,offering himself\\nas a teacher of violin and orchestration.He didn\\'t get a single reply.Mrs Elgar was no happier\\nand she was forced to sellsome of her own bits and pieces\\nof personal jewellery.It was a sacrifice\\nand it wasn\\'t enough to keep them warm.\"The winter here has been truly awful,\"\\nwrote Elgar.\"The fogs are terrifying\\nand make us very ill.\"Yesterday, all day,\\nand today until two,\"we\\'ve been in a sort of yellow darkness.\"Mrs Elgar noted in her diary:\"This was the coldest day I have ever felt.\"It was the last day of 1890.\"I could have died with a cold.\"(Wheldon) There was only one thing to do\\nand that was to cut their losses.The \"House To Let\" sign went up\\non their home in West Kensingtonand the Elgars,\\ndisillusioned and despondent,went back to Worcestershire.(I ELGAR: \"lntr0ducti0n and Allegro\")There was no pony anymore,\\nbut Elgar bought himself a bike,and despite all setbacks,\\nalmost certainly felt an enormous relief.Elgar\\'s head was still full of great\\norchestral themes,not one of which he\\'d, so far,\\never heard played.\"My idea is that there is music in the air.\\nMusic all around me,\" he once said.\"I do all my composing in the open.\\nAt home, all I have to do\"is write it down.\"They re-established themselves in Malvernand Elgar went back to teaching.The long climb to recognition\\nbegan once more.Life was dull, provincial, and frustrating,teaching schoolgirls to play the violinand conducting amateurs in poky choirs\\nand orchestras.After the birth of their daughter,\\nhis wife was always by his side.She played the piano at his music lessons,\\nkept the accounts,and neglected no occasion\\nto push her husband forward.She was absolutely determined\\nthat he should be a success.While Elgar himself was full of doubt\\nabout his chances of getting a hearing,she remained\\nquietly and relentlessly persistent.She wrote to music publishers,\\ncorrected the proofsof such little pieces\\nas he got accepted,and even ruled out the music staves\\non plain paper,because they couldn\\'t afford\\nthe proper manuscript.She forced him to work\\nwhere it would have been easy to give up.<i>The music began to flow\\nand \\'m the Serenade for Strings,</i>written to celebrate\\ntheir third wedding anniversary,it was a new and richer stream of melody\\nthan ever before.In the year that he composed\\nthe Serenade for StringsElgar took a job as a violinist\\nat the Three Choirs Festivalbecause, he wrote in his diary,\"I could obtain no recognition\\nas a composer.\"(Wheldon) Four years later,\\nand he was 39 by now,public recognition still hadn\\'t come.His background, his lack of connections,\\nand his religion were all against him.Perhaps it was his wife who suggested a\\nnew line of attack, who knows?But in the spring of 1897,working, of all places, in a bell tent\\nthat had belonged to his father-in-law,the major general,he composed an imperial march in honour\\nof Queen Victoria\\'s Diamond Jubilee.(P ELGAR: \"imperial March\")For some reason, this march,\\nnow virtually forgotten,immediately caught the public imagination\\nin that jubilee year.It was played here, there, and everywhere.It reflected the buoyant high spirits\\nand the appetite for imperial glorythat were very much part\\nof Elgar\\'s complicated make-up.It was frankly popular music\\nand it matched the mood of the day.<i>The Imperial March was a success.</i>It brought a passing glory but brought\\nnothing in the way of hard cash.Nevertheless, money or no money,\\nhe went on composing.He rented a little cottage\\nwhich looked out onto the Malvern Hillsand this was to be his powerhouse\\nfor the next ten years.Here <i>he wrote Caracfacus\\nthe Enigma Var/zfi/ans</i><i>and, \\'m 19%, The Dream of Gerontius.</i>They went without fires for 12 months,\\nwhile he was composing it.The text was a poem by Cardinal Newman,which Elgar had been given\\non his wedding day.It tells of the death of Gerontius\\nand the experiences of his spirit,on its way to his God.Elgar was moved by it\\nto compose as never before.\"This is what I hear all day,\"\\nhe wrote in a letter.\"The trees are singing my music\\nor have I sung theirs?\"He worked fast,\\nalways composing in the open air,writing it down at night,turning his mind from public pomptowards the private agony and ecstasy\\nof a worldly soul in purgatory and beyond.It was an intensely visionary and\\nan intensely Catholic work,and Elgar was in no doubt\\nabout its stature.\"This is the best of me,\" he wrote,\\nquoting Ruskin at the end of the score.\"For the rest, I ate, I drank,\\nI slept, I loved, I hated as another.\"My life was a vapour and is not,\"but this is what I saw and know.\"This, if anything of mine,\"is worth your memory.\"(Tenor) J“ SanctusJ“ Fortis♪ Sanctus DeusJ“ De profundis<i>♪ Ore Xe</i>J“ MisereJ“ Judex meus<i>♪ Moms, moms</i>J” In discrimine... ♪\"This, if anything, is worth your memory,\"\\nhe\\'d said.But the first performance of Geronf/us\\nwas a disaster.\"I have worked hard for 40 years\"and at the last, Providence denies me\\na decent hearing of my work.\"(Wheldon) It was left to Germany\\nand the Germans to confirmwhat Mrs Elgar had been saying\\nfor 12 years.England had a great composer.Elgar\\'s music was suddenly discovered\\nby the famous German conductorHans Richter.Geronf/us was performed at Dusseldorfin the presence\\nof the composer and his wife.A terrific German enthusiasm\\nsuddenly flared up,culminating in a speech\\nby Richard Strauss, the composer,who hailed Elgar as\\nthe first modern genius of English music.The Elgars\\nwere inveterate postcard-writersand their postcards\\nto their daughter at hometold of triumph after triumph.\"Most splendid evening. Beautiful\\nperformance received with rapture.\"\"Father shouted for again and again.\"\"So glad to have your letter.\\nWeather dreadful.\"\"A great dinner here today and a great\\nsupper during the festival this evening.\"\"At rehearsal, they cheered and cheered.\\nWish you were here. Much love.\"\"Delighted to tell you,\\nperformance glorious.\"\"Last evening, the audience was quite\\nastounded. I am so thankful.\"We had a delightful supper party.\\nNot back until one-thirty.\"At last, Elgar had arrived,\\nand with a bang.But only in Germany.(P ELGAR: \"Enigma Variations - Theme\")(Wheldon) Back home, with his daughter,\\nElgar took up kite-flyingand, as usual, went headlong\\ninto a new hobby.His friends were worried about his career,but he was to confound them\\nby using their very doubts and worries,their personal characters, as material for\\na set of variations on an original themeand it was these Enigma Variations\\nthat finally got him recognised in England.The character of Caroline Alice, his wife,\\ninspired the first of the variations.Richard Arnold, son of Matthew Arnold,solemn and witty, by turns,\\nprovided another,as did Basil Nevinson, cello player\\nand devoted friend of the composer.A bulldog belonging to the organist\\nof Hereford Cathedralwas the subject of a forth.There were 13, all told, but the character\\nwhich emerged most strongly throughout,the key to the enigma, perhaps,was Edward Elgar himself,\\nconfident and masterful.(P ELGAR: \"Enigma Variations\\n- Finale: Allegro - E.D.U.\")(I ELGAR: \"Pomp and Circumstance\\nMarch No. 1\")(Wheldon) What had happened\\nso sensationally in Germanywas now happening in England.Almost overnight, the unknown Mr Elgar\\nbecame the great Sir Edward Elgar.Within three years, he was firmly\\nestablished as a major international figure.His portrait was hung in Windsor Castle,\\nhe hobnobbed with kings.The great roll call of honour started.He was to be honoured by universities,\\nacademies, and states all over the world.\"He deserves all these honours,\"\\nwrote Sir Hubert Parry.\"In his music, he has reached\\nto the hearts of the people.\"(I ELGAR: \"Pomp and Circumstance\\nMarch No. 1\")\"The triumph is yours as well as his,\"\\nElgar\\'s nearest friend told Lady Elgar.On the face of it, she now had\\nall that she wanted.From their big new house in Hereford,Elgar could live the life\\nof a country gentleman.But success having come,\\nElgar was not happy.Behind the facade of new prosperity,there was a constant worry about money.The house, as usual,\\nwas bigger than they could afford.His illnesses became chronic and his\\ninspiration came only in fits and starts.\"I see nothing in the future,\"\\nhe wrote, \"but a black stone wall\"against which I am longing\\nto dash my head.\"To his wife, he talked,\\nsometimes, of suicide.By turns, boisterous and lugubrious,\\nimpulsive and reserved,he drew apart from the world.One extraordinary method of withdrawal,\\nthis time, was into a new hobby,a sort of do-it-yourself chemistry.He tried to make a new kind of soap\\nand actually did inventand take out a patent\\nfor a thing calledthe Elgar Sulphuretted Hydrogen\\nApparatus.(Gurgliflg)(Explosion)Yet these were the years\\nof Elgar\\'s finest works.<i>The symphoxfles, the violin concerto,\\nFalstaff, and the rest.</i>Side by side with these schoolboy pranks\\nand black despairs,there was a deep faith in humanity.\"There is no programme in my music,\"\\nhe said, \"beyond a wide experience\"of human life. With a great charity and\\nlove, and a massive hope in the future.\"Three years later, in 1910,\\nhe was much less hopeful.The period was opulent,\\nbut he\\'d become anxious and uneasy.\"These times are cruel and gloomy.\"He\\'d come to see himself, increasingly,\\nas a kind of Poet Laureate of music,and in his second symphony,\\nhe\\'d originally set outto celebrate the idea of monarchy.But with the death of Edward VII\\nand his own mounting feelings of anxiety,it became an elegy,\\ncharged with what WB Yeats called\"Elgar\\'s heroic melancholy\".An elegy for the passing of an age...\\nand a warning.It was as if he sensed\\ndisaster in the air.\"We walk,\" he said, \"like ghosts\".(P ELGAR: \"Symphony No. 2\")(I ELGAR: \"Pomp and Circumstance\\nMarch No. 2\")(Wheldon) In 1914,\\nthe tensions were releasedand a song which Elgar had written,\\nin one of his popular, exuberant moods,in 1901, at the time of the Boer War,\\nbecame a rallying call to a nation.Elgar was delighted.\"I look on the composer\\'s job,\" he once\\nsaid, \"as the old troubadours did.\"In those days, it was no disgrace\"for a man to be turned on to step\\nin front of an army\"and inspire them with a song.\"For my part,\\nI know that there are a lot of people\"who like to celebrate events with music.\"To these people,\\nI have given tunes.\"(I ELGAR: \"Land of Hope and Glory\")\"A tune like this only comes\\nonce in a lifetime,\" he once said.He was proud of his marches.The words, however, were not his\\nand he disapproved of them.They were too jingoisticand there was to come a time\\nwhen Elgar could no longer bearwhat had virtually become\\na second national anthem.There was a terrible ironyin having a march written in the dashing,\\nglinting days of 1900,used as a battle hymn against\\na nation he loved so much.Used, almost as an accompaniment,to the growing horror\\nof the First World War.(I ELGAR: \"Land of Hope and Glory\")As the gates of Armageddon\\nopened in France,Elgar, too old to serve,\\nleft London for Sussex,and turned to chamber music,\\nto sonatas and quintets.Nothing, however, could sever\\nthe public\\'s association of Elgarwith his Boer War marching song,and the irony, to a man who had sensed\\nthe disaster to come and felt its impact,became abominable.(Cheering)The relief of the Armistice\\nwas not shared by Elgar.During the early fighting,\\nhe\\'d written various patriotic pieces,but fewer and fewer\\nas the war dragged on.Now, in 1918, Laurence Binyon\\ninvited him to write an anthem for peace.He refused point-blank.Official music had become\\nan abomination.He had rented a cottage\\nin the middle of a wood,and in 1919, he put all his sadness\\nand his desolation into a cello concerto,his last great work.(I ELGAR: \"Cello Concerto,\\nFirst Movement - Moderato\")In 1920, came the deepest grief of all:the death, quite suddenly,\\nof his wife Alice.(I BACH: \"Fantasia and Fugue in C Minor,\\norchestrated by Elgar\")He put their London home in shroudsand lived in a corner of the house.He buried all his honours in\\nhis wife\\'s coffin. He composed nothing,his only musical activity being\\nto arrange a Bach organ workfor full orchestra.He turned, now,\\nnot to chemistry but to biology,kept three microscopes\\non an unused billiard table,and got some kind of solace\\nfrom the cold and abstract patternsof life, thus revealed.(Tannoy) J“ Land of hope and gloryJ“ Mother of the free... J“In 1924, he was called on\\nto conduct his musicat the royal opening\\nof the Wembley Empire Exhibition.J“ ...are born of thee... J“Elgar had planned\\nto perform some new music,<i>\"But the King,\" he wrote,\\n\"insists on Lana\\' of Hope.</i>\"Music is dying fast in this country.\"Everything seems so hopelessly\\nand irredeemably vulgar at court.\"The whole clatter and bang of Wembley\\nhe found intolerable.(I ELGAR: \"Land of Hope and Glory\")He described his feelings\\nduring the royal parade:\"I was in the middle\\nof the enormous stadium,\"surrounded by\\nall the ridiculous court programme,\"aeroplanes circling over,\\nloudspeakers, amplifiers,\"all mechanical and horrible, no soul,\\nno romance, and no imagination.(Contralto) ♪ God, who made thee mightyJ“ Make thee mightier yet(Children) J“ God, who made thee mightyJ“ Make thee mightier yet...(Bass) ♪ God, who made thee mightyJ“ Make thee mightier yet J“(I ELGAR: \"lntr0ducti0n and Allegro\")Elgar could stand it no more,and this time he left London for good,\\ndriving back to the Malvern Hills,alone, except for his dogs.He\\'d loved dogs all his life.His wife had hated them\\nand wouldn\\'t allow one in the house.Now, he was never without them.\\nThey were his only companions.(Birdsong)Elgar had gone back to his roots,\\nto Worcester,and there he lived out his life,\\nas a country gentleman.Further honours came his way.He\\'d become a member\\nof the Order of Meritand had been honoured\\nby a dozen universities.Now, he was a baronet\\nand Master of the King\\'s Music.But the cold wind of indifference blew over\\nhis reputation with the public.When he went, occasionally, to London,\\nto conduct a concert of his music,it was, wrote Constance Lambert,\"as if one of the classical composers\\nhad appeared\"to conduct a work of another age\".The times were out of joint,\\nout of sympathy,with the full-blooded romantic\\nand the drum-beating patriotand the religious visionary,\\nand Elgar had been all three.In the year he wrote his first symphony,it had been played 82 times,\\nall over the world,from Saint Petersburg to Pennsylvania,and he probably was the last great\\ncomposer to be in touch with the people.But now, the rare Elgar concerts\\nwere half-empty.In the early thirties,\\nwhen he was rising 75,Elgar took on a brief new lease of life.There was a lively friendship\\nwith Bernard Shawand the excitement of working once more,\\non his violin concerto,with a young Yehudi Menuhin.He began sketches for a new symphony\\nand an opera.But it was too late. The illnesses\\nwhich had haunted him all his life,took their final gripand he was forced to take to this bed.He arranged it so that through the window\\nhe could see Worcester Cathedraland the Malvern Hills beyond.There, he lay for hour after hour,listening to recordings of his musicand, according to his own account,drifting through his memoriesin search of those moments\\nand people and placesthat had brought him\\nhappiness and fulfillment.(I ELGAR: \"Nimr0d\")'"
      ]
     },
     "execution_count": 36,
     "metadata": {},
     "output_type": "execute_result"
    }
   ],
   "source": [
    "subtitles_all_episode"
   ]
  },
  {
   "cell_type": "code",
   "execution_count": 40,
   "id": "72b097f1-3c8d-4f6b-96d2-a6ff970f109c",
   "metadata": {},
   "outputs": [
    {
     "name": "stderr",
     "output_type": "stream",
     "text": [
      "Downloading data:  10%|▉         | 125M/1.30G [1:00:35<9:26:05, 34.5kB/s]\n",
      "2024-12-11 15:31:22.034905: E external/local_xla/xla/stream_executor/cuda/cuda_fft.cc:477] Unable to register cuFFT factory: Attempting to register factory for plugin cuFFT when one has already been registered\n",
      "WARNING: All log messages before absl::InitializeLog() is called are written to STDERR\n",
      "E0000 00:00:1733923882.570668  321232 cuda_dnn.cc:8310] Unable to register cuDNN factory: Attempting to register factory for plugin cuDNN when one has already been registered\n",
      "E0000 00:00:1733923882.733470  321232 cuda_blas.cc:1418] Unable to register cuBLAS factory: Attempting to register factory for plugin cuBLAS when one has already been registered\n",
      "2024-12-11 15:31:24.549092: I tensorflow/core/platform/cpu_feature_guard.cc:210] This TensorFlow binary is optimized to use available CPU instructions in performance-critical operations.\n",
      "To enable the following instructions: AVX2 FMA, in other operations, rebuild TensorFlow with the appropriate compiler flags.\n"
     ]
    },
    {
     "name": "stdout",
     "output_type": "stream",
     "text": [
      "[-5.17626777e-02  3.39212380e-02  2.63837352e-02  4.63739922e-03\n",
      " -1.03848681e-01  4.26362604e-02 -3.28206085e-02  2.14931089e-02\n",
      " -5.23219220e-02 -2.25936137e-02  3.34530585e-02 -9.74316821e-02\n",
      "  3.01456209e-02 -1.69030115e-01  1.89619921e-02  8.48561376e-02\n",
      "  1.53350066e-02 -4.11650538e-03 -6.43126890e-02 -5.90596423e-02\n",
      " -5.52874729e-02 -1.43189970e-02 -4.96534146e-02  5.44040538e-02\n",
      "  2.21284907e-02  7.12895840e-02 -1.33553324e-02  1.54406000e-02\n",
      "  1.14876032e-02 -3.63774481e-03  5.37398495e-02 -1.89675167e-02\n",
      "  1.23656064e-01  2.12772209e-02 -3.95043418e-02  8.09676051e-02\n",
      "  9.93079096e-02  2.07058191e-02 -6.89326087e-03  1.38812289e-02\n",
      " -3.25565459e-03  2.57534459e-02  8.09643231e-03 -8.70754123e-02\n",
      " -6.19121678e-02 -9.56633091e-02  5.10278605e-02 -9.71950442e-02\n",
      " -8.59678239e-02  9.68415439e-02  3.80683728e-02  7.29687000e-03\n",
      "  2.13431325e-02 -7.09030926e-02 -6.51646405e-02  5.96285760e-02\n",
      "  2.03136671e-02  4.63809259e-02  1.33963386e-02  8.82525370e-02\n",
      " -8.83932710e-02 -7.55102281e-03 -4.22989205e-03 -8.09794932e-04\n",
      " -4.35430110e-02 -1.44664124e-02  7.53816441e-02 -4.58911173e-02\n",
      "  2.22204998e-02 -2.47379187e-02  1.93148963e-02 -3.49166729e-02\n",
      "  2.73809377e-02  3.78159061e-02 -6.08449103e-03 -9.11867395e-02\n",
      "  4.54029366e-02 -8.65500420e-02 -6.89084008e-02 -3.13523598e-02\n",
      " -7.25236312e-02  1.65284295e-02 -2.87572294e-02 -6.39573187e-02\n",
      " -6.88686892e-02 -9.82976705e-02 -5.49836084e-02  1.99679509e-02\n",
      "  2.06909180e-02 -1.00582093e-01  7.96591416e-02 -8.28246698e-02\n",
      " -1.42679408e-01  5.75794093e-02  1.27149716e-01  2.59493422e-02\n",
      " -9.65308584e-03 -1.94280129e-03 -2.92242803e-02  2.76847905e-03\n",
      " -1.52969277e-02  6.19586259e-02  4.29671668e-02  5.74873872e-02\n",
      " -2.48421095e-02 -6.49102323e-04  6.82380237e-03  1.17618583e-01\n",
      " -8.19812715e-02 -4.16095257e-02 -7.83547014e-03 -9.59847420e-02\n",
      "  6.83301911e-02  5.73175997e-02  3.66582908e-02  1.24473302e-02\n",
      " -3.66564468e-02  3.01618483e-02 -7.60516301e-02  6.48910478e-02\n",
      "  7.45211840e-02  2.66034752e-02 -1.47104850e-02  3.46576795e-02\n",
      " -2.39358731e-02 -2.34158952e-02  1.98850557e-02  1.65908611e-33\n",
      "  8.40404350e-03  3.59983696e-03 -1.23258177e-02  9.81731042e-02\n",
      "  2.33291481e-02  3.05778589e-02  1.27101494e-02  6.88089356e-02\n",
      "  2.26070024e-02 -1.51575869e-02  1.24222577e-01  1.32841514e-02\n",
      "  2.45833695e-02  2.49281581e-02  5.33145852e-02  7.92966411e-02\n",
      " -8.30977857e-02 -1.24306820e-01  9.09115653e-03 -3.91993560e-02\n",
      " -3.53385732e-02 -1.76276993e-02 -1.83026865e-02 -7.86809400e-02\n",
      " -6.29828945e-02  3.55397761e-02  9.42485332e-02 -4.25671674e-02\n",
      " -1.74701456e-02  1.79110188e-02  2.84851585e-02 -2.53004972e-02\n",
      "  6.55001123e-03 -2.97693443e-02  5.77408783e-02  5.24660386e-02\n",
      "  1.09218070e-02 -1.34695088e-02  3.03245429e-02 -1.50730871e-02\n",
      " -1.79358460e-02  1.33191459e-02 -5.81232458e-03 -1.19614229e-02\n",
      " -5.12948073e-02  2.83335745e-02  9.97844711e-03  3.47245261e-02\n",
      "  6.76732063e-02 -6.76105767e-02  1.17590213e-02 -9.03297681e-03\n",
      "  8.77587218e-03 -4.75849509e-02  6.66870400e-02 -2.37956680e-02\n",
      " -8.21544975e-02  6.62846267e-02 -4.18848768e-02 -4.65168059e-03\n",
      "  8.47613886e-02  5.82363307e-02  9.89712551e-02  1.02379650e-01\n",
      "  1.71838910e-03 -9.17761847e-02  5.89123331e-02 -4.28958498e-02\n",
      " -4.57633706e-03 -5.21101691e-02 -3.82529162e-02  3.44602391e-02\n",
      " -4.83886106e-03 -1.49523932e-02 -2.16246117e-02 -1.66356601e-02\n",
      " -4.62322943e-02 -1.31519819e-02 -5.98044172e-02  4.87679662e-03\n",
      "  1.72945787e-03  5.54488180e-03 -2.13141218e-02 -9.49531328e-03\n",
      " -1.00797396e-02 -7.38635883e-02  2.47028526e-02 -9.25191492e-03\n",
      " -4.35540965e-03  3.55426744e-02 -5.73393293e-02  2.29529850e-02\n",
      " -2.85265017e-02 -2.66048759e-02  2.44780760e-02 -5.13897588e-33\n",
      "  1.53991804e-02  3.24385986e-03  2.52583660e-02  1.69187952e-02\n",
      " -1.48631800e-02  3.53631377e-02  5.74088134e-02 -3.79186533e-02\n",
      "  3.27835395e-03  3.58786806e-02 -7.21693262e-02  8.96840766e-02\n",
      "  4.97216843e-02 -1.21143416e-01  3.61325890e-02 -5.93147241e-02\n",
      " -4.31559421e-02  7.67523497e-02  2.73817908e-02 -4.90866452e-02\n",
      "  2.04761866e-02  1.42599558e-02 -8.62463340e-02 -4.54848744e-02\n",
      "  3.26937810e-02 -3.56860720e-02 -1.29563347e-01  3.99756338e-03\n",
      " -9.55483615e-02  1.84035469e-02  3.05249114e-02  6.42923173e-03\n",
      "  8.36601704e-02 -8.50489587e-02 -7.60778710e-02  7.23258778e-02\n",
      " -1.70803256e-02 -1.50737083e-02 -1.61925554e-02 -4.85296845e-02\n",
      "  6.90245302e-03  8.45370814e-03  7.78827891e-02 -9.35509801e-02\n",
      " -3.55364988e-04  2.47112499e-03 -2.87998980e-03  2.46970057e-02\n",
      " -1.45460404e-02 -2.46678805e-03 -8.00728705e-03 -1.26244714e-02\n",
      "  8.06704722e-03 -3.92759144e-02  9.10022855e-02  5.89551888e-02\n",
      "  1.59206669e-04 -6.53735399e-02 -5.88395484e-02  7.92193785e-03\n",
      " -3.28196287e-02  6.36171401e-02 -1.33779868e-02  6.45830017e-03\n",
      "  2.33666250e-03  4.38171513e-02  3.63077447e-02 -1.15235578e-02\n",
      "  4.80782650e-02  3.85622319e-04  5.72734438e-02 -2.40665600e-02\n",
      "  5.59912547e-02 -5.36253564e-02 -2.54276711e-02  6.90939948e-02\n",
      " -9.01926234e-02  4.83257463e-03 -7.29727447e-02 -7.19503909e-02\n",
      "  2.41018217e-02 -9.61678401e-02  4.07526530e-02 -5.66918068e-02\n",
      " -2.27047484e-02 -2.81535480e-02 -5.09954710e-03  6.24304218e-03\n",
      "  3.08343973e-02 -5.82050830e-02  8.32481980e-02 -7.26497397e-02\n",
      "  8.14225059e-03 -9.43700522e-02  1.20715285e-02 -5.88966422e-08\n",
      " -7.61399465e-03  1.86599593e-03 -7.45765306e-03  1.36418873e-02\n",
      "  9.39669274e-03  2.64811944e-02  7.42529407e-02  6.18931390e-02\n",
      " -7.72564560e-02  1.30150616e-01 -7.67158493e-02 -1.60812847e-02\n",
      "  4.09887545e-02 -3.74500151e-03  9.12984014e-02 -5.61335571e-02\n",
      "  5.07676117e-02 -2.34631207e-02 -5.66482805e-02  5.62640354e-02\n",
      "  1.03033602e-01  8.53547920e-03  4.30345573e-02 -3.14583792e-03\n",
      " -5.01557738e-02 -5.33198006e-03  2.29146481e-02 -3.25669907e-02\n",
      "  2.67434213e-02  2.01918110e-02  1.45175550e-02 -1.18719740e-02\n",
      "  2.29603965e-02 -3.54739949e-02 -2.49435268e-02 -2.44276095e-02\n",
      " -3.38796601e-02 -1.95068438e-02 -4.58982494e-03 -1.61812026e-02\n",
      " -2.41777897e-02  1.06691793e-02  3.12762186e-02 -2.74688266e-02\n",
      "  8.15570056e-02 -1.43092703e-02  1.22287432e-02  2.00273562e-02\n",
      " -2.37749591e-02  9.28155258e-02 -5.49146645e-02 -2.01408435e-02\n",
      "  8.32805037e-02  1.38833281e-02  3.04760020e-02 -2.38055196e-02\n",
      " -4.36860435e-02  1.44933118e-02  4.96031083e-02 -1.52597809e-02\n",
      "  5.54376282e-02  2.65828259e-02 -5.10095172e-02 -2.85557825e-02]\n"
     ]
    }
   ],
   "source": [
    "from sentence_transformers import SentenceTransformer\n",
    "\n",
    "# Load a pre-trained Sentence-BERT model\n",
    "model = SentenceTransformer('all-MiniLM-L6-v2')\n",
    "\n",
    "# Compute the embedding for the subtitle\n",
    "document_vector = model.encode(subtitles_all_episode)\n",
    "\n",
    "print(document_vector)\n"
   ]
  },
  {
   "cell_type": "code",
   "execution_count": null,
   "id": "4de7b1da-8211-4d35-b7cd-9d5922c8d677",
   "metadata": {},
   "outputs": [],
   "source": []
  }
 ],
 "metadata": {
  "kernelspec": {
   "display_name": "Python (myenv)",
   "language": "python",
   "name": "myenv"
  },
  "language_info": {
   "codemirror_mode": {
    "name": "ipython",
    "version": 3
   },
   "file_extension": ".py",
   "mimetype": "text/x-python",
   "name": "python",
   "nbconvert_exporter": "python",
   "pygments_lexer": "ipython3",
   "version": "3.12.4"
  }
 },
 "nbformat": 4,
 "nbformat_minor": 5
}
