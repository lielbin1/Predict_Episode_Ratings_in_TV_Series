{
 "cells": [
  {
   "cell_type": "code",
   "execution_count": 1,
   "id": "5b0cdd7c-c888-4554-830c-1bc438ee056f",
   "metadata": {},
   "outputs": [
    {
     "name": "stdout",
     "output_type": "stream",
     "text": [
      "Unable to disable persistence mode for GPU 00000000:C2:00.0: Insufficient Permissions\n",
      "Wed Jan  8 16:31:01 2025       \n",
      "+-----------------------------------------------------------------------------------------+\n",
      "| NVIDIA-SMI 550.54.15              Driver Version: 550.54.15      CUDA Version: 12.4     |\n",
      "|-----------------------------------------+------------------------+----------------------+\n",
      "| GPU  Name                 Persistence-M | Bus-Id          Disp.A | Volatile Uncorr. ECC |\n",
      "| Fan  Temp   Perf          Pwr:Usage/Cap |           Memory-Usage | GPU-Util  Compute M. |\n",
      "|                                         |                        |               MIG M. |\n",
      "|=========================================+========================+======================|\n",
      "|   0  NVIDIA GeForce RTX 4090        On  |   00000000:C2:00.0 Off |                  Off |\n",
      "| 30%   43C    P2             82W /  450W |     587MiB /  24564MiB |      0%      Default |\n",
      "|                                         |                        |                  N/A |\n",
      "+-----------------------------------------+------------------------+----------------------+\n",
      "                                                                                         \n",
      "+-----------------------------------------------------------------------------------------+\n",
      "| Processes:                                                                              |\n",
      "|  GPU   GI   CI        PID   Type   Process name                              GPU Memory |\n",
      "|        ID   ID                                                               Usage      |\n",
      "|=========================================================================================|\n",
      "|    0   N/A  N/A    848407      C   ...aruy/.conda/envs/deeprov/bin/python        580MiB |\n",
      "+-----------------------------------------------------------------------------------------+\n"
     ]
    }
   ],
   "source": [
    "!nvidia-smi --gpu-reset\n",
    "!nvidia-smi"
   ]
  },
  {
   "cell_type": "code",
   "execution_count": 1,
   "id": "eaf000ab-71e6-470d-87b6-9f8f8f2cb324",
   "metadata": {},
   "outputs": [
    {
     "name": "stderr",
     "output_type": "stream",
     "text": [
      "/home/lielbin/.conda/envs/myenv/lib/python3.12/site-packages/tqdm/auto.py:21: TqdmWarning: IProgress not found. Please update jupyter and ipywidgets. See https://ipywidgets.readthedocs.io/en/stable/user_install.html\n",
      "  from .autonotebook import tqdm as notebook_tqdm\n"
     ]
    }
   ],
   "source": [
    "import numpy as np\n",
    "import pandas as pd\n",
    "from datasets import load_dataset\n",
    "import os\n",
    "from tqdm import tqdm\n",
    "from transformers import AutoModelForCausalLM, AutoTokenizer, AutoModel\n",
    "import torch\n",
    "torch.cuda.empty_cache()\n",
    "\n",
    "current_dir = os.getcwd()\n",
    "parent_dir = os.path.dirname(current_dir)\n",
    "prefix_path = parent_dir"
   ]
  },
  {
   "cell_type": "code",
   "execution_count": 2,
   "id": "06a04602-3ecb-490f-a81a-904eab13d8bf",
   "metadata": {},
   "outputs": [
    {
     "data": {
      "text/plain": [
       "True"
      ]
     },
     "execution_count": 2,
     "metadata": {},
     "output_type": "execute_result"
    }
   ],
   "source": [
    "torch.cuda.is_available()"
   ]
  },
  {
   "cell_type": "code",
   "execution_count": 3,
   "id": "99f82e94-4b15-4da6-83c3-eaf38fc955b6",
   "metadata": {},
   "outputs": [],
   "source": [
    "df_imdb_sub = pd.read_csv(os.path.join(prefix_path, \"data\", \"imdb_text_subtitles.csv\"))"
   ]
  },
  {
   "cell_type": "code",
   "execution_count": 4,
   "id": "642eb95b-4dec-4000-9db9-648f52bc1b9f",
   "metadata": {
    "scrolled": true
   },
   "outputs": [
    {
     "data": {
      "text/html": [
       "<div>\n",
       "<style scoped>\n",
       "    .dataframe tbody tr th:only-of-type {\n",
       "        vertical-align: middle;\n",
       "    }\n",
       "\n",
       "    .dataframe tbody tr th {\n",
       "        vertical-align: top;\n",
       "    }\n",
       "\n",
       "    .dataframe thead th {\n",
       "        text-align: right;\n",
       "    }\n",
       "</style>\n",
       "<table border=\"1\" class=\"dataframe\">\n",
       "  <thead>\n",
       "    <tr style=\"text-align: right;\">\n",
       "      <th></th>\n",
       "      <th>tconst_episode</th>\n",
       "      <th>tconst_season</th>\n",
       "      <th>seasonNumber</th>\n",
       "      <th>episodeNumber</th>\n",
       "      <th>title_episode</th>\n",
       "      <th>runtimeMinutes</th>\n",
       "      <th>title_series</th>\n",
       "      <th>averageRating_season</th>\n",
       "      <th>numVotes_series</th>\n",
       "      <th>averageRating_episode</th>\n",
       "      <th>numVotes_episode</th>\n",
       "      <th>Year_episode</th>\n",
       "      <th>sub_id</th>\n",
       "      <th>subtitles</th>\n",
       "    </tr>\n",
       "  </thead>\n",
       "  <tbody>\n",
       "    <tr>\n",
       "      <th>0</th>\n",
       "      <td>tt0059753</td>\n",
       "      <td>tt0060028</td>\n",
       "      <td>1</td>\n",
       "      <td>0</td>\n",
       "      <td>The Cage</td>\n",
       "      <td>63.0</td>\n",
       "      <td>Star Trek</td>\n",
       "      <td>8.4</td>\n",
       "      <td>95360.0</td>\n",
       "      <td>7.6</td>\n",
       "      <td>7428.0</td>\n",
       "      <td>1966.0</td>\n",
       "      <td>188032.0</td>\n",
       "      <td>הכלוב .תבדקו את המעגל- .הכול תקין, אדוני- .אם ...</td>\n",
       "    </tr>\n",
       "    <tr>\n",
       "      <th>1</th>\n",
       "      <td>tt0061027</td>\n",
       "      <td>tt0060028</td>\n",
       "      <td>1</td>\n",
       "      <td>3</td>\n",
       "      <td>Where No Man Has Gone Before</td>\n",
       "      <td>50.0</td>\n",
       "      <td>Star Trek</td>\n",
       "      <td>8.4</td>\n",
       "      <td>95360.0</td>\n",
       "      <td>7.7</td>\n",
       "      <td>6688.0</td>\n",
       "      <td>1966.0</td>\n",
       "      <td>181335.0</td>\n",
       "      <td>,יומן הקפטן .זמן כוכבים 1312.4 ,הבלתי אפשרי קר...</td>\n",
       "    </tr>\n",
       "    <tr>\n",
       "      <th>2</th>\n",
       "      <td>tt0066931</td>\n",
       "      <td>tt1466074</td>\n",
       "      <td>1</td>\n",
       "      <td>3</td>\n",
       "      <td>Dead Weight</td>\n",
       "      <td>76.0</td>\n",
       "      <td>Columbo</td>\n",
       "      <td>8.3</td>\n",
       "      <td>43873.0</td>\n",
       "      <td>6.9</td>\n",
       "      <td>3538.0</td>\n",
       "      <td>1971.0</td>\n",
       "      <td>94598.0</td>\n",
       "      <td>.דוטון .גנרל הוליסטר .היכנס ?רוצה לשתות- .לא. ...</td>\n",
       "    </tr>\n",
       "    <tr>\n",
       "      <th>3</th>\n",
       "      <td>tt0073677</td>\n",
       "      <td>tt0071054</td>\n",
       "      <td>3</td>\n",
       "      <td>17</td>\n",
       "      <td>The Secret of Bigfoot: Part 1</td>\n",
       "      <td>47.0</td>\n",
       "      <td>The Six Million Dollar Man</td>\n",
       "      <td>7.1</td>\n",
       "      <td>13511.0</td>\n",
       "      <td>7.6</td>\n",
       "      <td>399.0</td>\n",
       "      <td>1976.0</td>\n",
       "      <td>297110.0</td>\n",
       "      <td>***האיש השווה מיליונים*** תורגם סונכרן וקודד ע...</td>\n",
       "    </tr>\n",
       "    <tr>\n",
       "      <th>4</th>\n",
       "      <td>tt0084218</td>\n",
       "      <td>tt0083437</td>\n",
       "      <td>1</td>\n",
       "      <td>1</td>\n",
       "      <td>Knight of the Phoenix: Part 1</td>\n",
       "      <td>45.0</td>\n",
       "      <td>Knight Rider</td>\n",
       "      <td>6.9</td>\n",
       "      <td>38628.0</td>\n",
       "      <td>7.3</td>\n",
       "      <td>2272.0</td>\n",
       "      <td>1982.0</td>\n",
       "      <td>5919.0</td>\n",
       "      <td>&lt;i&gt;- קונסוליה זרה, ארה\"ב -&lt;/i&gt; ?תסלחי לי לרגע ...</td>\n",
       "    </tr>\n",
       "  </tbody>\n",
       "</table>\n",
       "</div>"
      ],
      "text/plain": [
       "  tconst_episode tconst_season  seasonNumber  episodeNumber  \\\n",
       "0      tt0059753     tt0060028             1              0   \n",
       "1      tt0061027     tt0060028             1              3   \n",
       "2      tt0066931     tt1466074             1              3   \n",
       "3      tt0073677     tt0071054             3             17   \n",
       "4      tt0084218     tt0083437             1              1   \n",
       "\n",
       "                   title_episode  runtimeMinutes                title_series  \\\n",
       "0                       The Cage            63.0                   Star Trek   \n",
       "1   Where No Man Has Gone Before            50.0                   Star Trek   \n",
       "2                    Dead Weight            76.0                     Columbo   \n",
       "3  The Secret of Bigfoot: Part 1            47.0  The Six Million Dollar Man   \n",
       "4  Knight of the Phoenix: Part 1            45.0                Knight Rider   \n",
       "\n",
       "   averageRating_season  numVotes_series  averageRating_episode  \\\n",
       "0                   8.4          95360.0                    7.6   \n",
       "1                   8.4          95360.0                    7.7   \n",
       "2                   8.3          43873.0                    6.9   \n",
       "3                   7.1          13511.0                    7.6   \n",
       "4                   6.9          38628.0                    7.3   \n",
       "\n",
       "   numVotes_episode  Year_episode    sub_id  \\\n",
       "0            7428.0        1966.0  188032.0   \n",
       "1            6688.0        1966.0  181335.0   \n",
       "2            3538.0        1971.0   94598.0   \n",
       "3             399.0        1976.0  297110.0   \n",
       "4            2272.0        1982.0    5919.0   \n",
       "\n",
       "                                           subtitles  \n",
       "0  הכלוב .תבדקו את המעגל- .הכול תקין, אדוני- .אם ...  \n",
       "1  ,יומן הקפטן .זמן כוכבים 1312.4 ,הבלתי אפשרי קר...  \n",
       "2  .דוטון .גנרל הוליסטר .היכנס ?רוצה לשתות- .לא. ...  \n",
       "3  ***האיש השווה מיליונים*** תורגם סונכרן וקודד ע...  \n",
       "4  <i>- קונסוליה זרה, ארה\"ב -</i> ?תסלחי לי לרגע ...  "
      ]
     },
     "execution_count": 4,
     "metadata": {},
     "output_type": "execute_result"
    }
   ],
   "source": [
    "df_imdb_sub.head()"
   ]
  },
  {
   "cell_type": "code",
   "execution_count": 5,
   "id": "e30641b1-e32f-497c-8d0f-c4415bcf3ff9",
   "metadata": {},
   "outputs": [],
   "source": [
    "example_subtitle = df_imdb_sub['subtitles'].iloc[2]\n"
   ]
  },
  {
   "cell_type": "code",
   "execution_count": 7,
   "id": "93d44cfc-c1fc-4bd3-9c49-96b84b4eed2e",
   "metadata": {},
   "outputs": [],
   "source": [
    "# example_subtitle"
   ]
  },
  {
   "cell_type": "markdown",
   "id": "139722fe-8740-4a9c-a4d1-7c59984e2937",
   "metadata": {},
   "source": [
    "## Summery Hebrew Text with dictalm2.0-instruct Model"
   ]
  },
  {
   "cell_type": "code",
   "execution_count": 6,
   "id": "bc98fccd-dd7f-494d-859d-d89b3e7cf424",
   "metadata": {},
   "outputs": [
    {
     "name": "stderr",
     "output_type": "stream",
     "text": [
      "Loading checkpoint shards: 100%|██████████| 3/3 [03:34<00:00, 71.34s/it]\n"
     ]
    },
    {
     "data": {
      "text/plain": [
       "MistralForCausalLM(\n",
       "  (model): MistralModel(\n",
       "    (embed_tokens): Embedding(33152, 4096)\n",
       "    (layers): ModuleList(\n",
       "      (0-31): 32 x MistralDecoderLayer(\n",
       "        (self_attn): MistralSdpaAttention(\n",
       "          (q_proj): Linear(in_features=4096, out_features=4096, bias=False)\n",
       "          (k_proj): Linear(in_features=4096, out_features=1024, bias=False)\n",
       "          (v_proj): Linear(in_features=4096, out_features=1024, bias=False)\n",
       "          (o_proj): Linear(in_features=4096, out_features=4096, bias=False)\n",
       "          (rotary_emb): MistralRotaryEmbedding()\n",
       "        )\n",
       "        (mlp): MistralMLP(\n",
       "          (gate_proj): Linear(in_features=4096, out_features=14336, bias=False)\n",
       "          (up_proj): Linear(in_features=4096, out_features=14336, bias=False)\n",
       "          (down_proj): Linear(in_features=14336, out_features=4096, bias=False)\n",
       "          (act_fn): SiLU()\n",
       "        )\n",
       "        (input_layernorm): MistralRMSNorm((4096,), eps=1e-05)\n",
       "        (post_attention_layernorm): MistralRMSNorm((4096,), eps=1e-05)\n",
       "      )\n",
       "    )\n",
       "    (norm): MistralRMSNorm((4096,), eps=1e-05)\n",
       "  )\n",
       "  (lm_head): Linear(in_features=4096, out_features=33152, bias=False)\n",
       ")"
      ]
     },
     "execution_count": 6,
     "metadata": {},
     "output_type": "execute_result"
    }
   ],
   "source": [
    "from transformers import AutoModelForCausalLM, AutoTokenizer\n",
    "# Load model and tokenizer\n",
    "torch.cuda.is_available()\n",
    "device = \"cuda\" if torch.cuda.is_available() else \"cpu\"\n",
    "model_name = \"dicta-il/dictalm2.0-instruct\"\n",
    "\n",
    "model = AutoModelForCausalLM.from_pretrained(\n",
    "    model_name, \n",
    "    torch_dtype=torch.float16,  # Use FP16\n",
    "    device_map=\"cuda\"\n",
    ")\n",
    "tokenizer = AutoTokenizer.from_pretrained(model_name)\n",
    "\n",
    "model.to(device)"
   ]
  },
  {
   "cell_type": "code",
   "execution_count": 10,
   "id": "039d69e2-1466-4408-953e-cd98c25e6c92",
   "metadata": {},
   "outputs": [
    {
     "data": {
      "text/plain": [
       "'.דוטון .גנרל הוליסטר .היכנס ?רוצה לשתות- .לא. לא תודה, אדוני, אין לי הרבה זמן- ...הייתי מתקשר, אבל- ?אבל מה- .אבל לא רציתי להסתכן בציתות לטלפון ?ציתות .אתה נשמע פראנואידי, קולונל .לא, הגנרל, רק נוקט אמצעי זהירות ?והסיבה לאותה...זהירות הידיעה הגיעה רק הבוקר .הנחיה מיוחדת לכל מפקדי היחידות המפקח הכללי פותח בחקירה רבת היקף .בנושא חוזי אספקת נשק .אני מבין ?אתה בטוח- .כן, אדוני- ,זה חבל מאוד אבל אני משער שזה היה קורה .במוקדם או במאוחר ...אם הם יגלו- .הם לא יגלו- ,המפקד ...אם מישהו יחפור מספיק עמוק ,הם ודאי יגלו שאיפשרתי לחברת הבנייה שלך .לחייב אותנו הון עתק על הוצאות חריגות ...תציע את ההסבר המקובל .קשיים בלתי צפויים בפיתוח מערכות הנשק .זה לא יחזיק מעמד, המפקד ...כאשר החוקר יראה את הצעת המחיר של העיסקה הוא יבין שבאופן מעשי .נתתי לך לגנוב את אותם חוזים .הם יאשימו את שנינו ,לו יהי כדבריך, קולונל .אתה הוא זה שהסכים להצעות המחיר .אתה אישרת את החריגות ,כשכמות כזו גדולה של כסף מעורבת .הם יבינו שהיינו בזה ביחד. אני מסתלק ?או .אני טס הלילה לז\\'נבה .ואני מציע לך, גנרל, לעשות כמוני- .יש לי עסק לנהל- .חוץ מזה, אף פעם לא האמנתי בנסיגה כפויה ,ובכן, אתה יכול אולי לעבוד עליהם, אדוני .אבל לי אין את המוניטין שיש לך .יהיה לך עוד פחות מוניטין אם תהיה נפקד .זו הודאה באשמה .הם לא ירגישו בכך למשך 30 יום .לקחתי את החופשה השנתית שלי .העולם קטן, קולונל. הם ימצאו אותך .אין מצב, אדוני. אני אצליח להיעלם ?ואם לצורך הויכוח, הם כן יצליחו .כמובן, אשמור את מוערבותך לעצמי .אסרב להעיד אפילו לא כדי לקצר תקופת מאסר ?עבור הגשת ראיות .האמן לי, אדוני, אין מקום לדאגה .הם לא ידעו היכן אני נמצא ?איך הגעת לכאן, קולונל? מונית ?לא, אדוני. נהגתי. למה אתה שואל .חשבתי לעצמי .אתה מציב לפני בעיה ?בעיה ---אתה מבטיח לי...ששמי לא יוזכר בנוגע ל .זה, אה, אתה תהיה המגן שלי .אני חושש שאני לא יכול לקחת את הסיכון הזה ?ראית את זה- ?את מה- .אה, איזה אדם ירה כרגע במישהו ?אבל היכן- .שם- ?שם. את רואה- .אני לא רואה כלום- .הוא בדיוק התרחק מן החלון- .היית יותר מדי זמן בשמש- ...אמא, אני אומרת לך- .זה פשוט חזיון-שוא- .לא. לא. אנחנו חוזרות בחזרה ?אנחנו מה עושות ?\"איזו דרך היא \"בחזרה ...איזו דרך היא- !!מה את עושה? או!! או .תפסתי את זה. הכל בסדר- .אני בסדר. אני בסדר. קחי את את זה- .כן, ת..תפסתי את זה- .עכשיו-- עכשיו, א..את תקחי את זה- ?אבל מה אני יעשה עם זה !אה, מר ברנס .הנה, תני לי לעזור לך- .תודה לך מר ברנס-'"
      ]
     },
     "execution_count": 10,
     "metadata": {},
     "output_type": "execute_result"
    }
   ],
   "source": [
    "tokenized_output = tokenizer(example_subtitle, max_length=1024, truncation=True, return_tensors=\"pt\")\n",
    "text_to_summarize = tokenizer.decode(tokenized_output['input_ids'][0], skip_special_tokens=True)\n",
    "text_to_summarize\n"
   ]
  },
  {
   "cell_type": "code",
   "execution_count": 11,
   "id": "b652d83d-4150-4e3a-8f8d-4761c031c88e",
   "metadata": {},
   "outputs": [],
   "source": [
    "# Create a prompt for summarization\n",
    "prompt = f\"\"\"\n",
    "סכם את הטקסט הבא בעברית:\n",
    "{text_to_summarize}\n",
    "\n",
    "תקציר:\n",
    "\"\"\""
   ]
  },
  {
   "cell_type": "code",
   "execution_count": 12,
   "id": "60b0177c-4edf-4cd3-a155-fce2fa43db25",
   "metadata": {},
   "outputs": [
    {
     "name": "stderr",
     "output_type": "stream",
     "text": [
      "The attention mask and the pad token id were not set. As a consequence, you may observe unexpected behavior. Please pass your input's `attention_mask` to obtain reliable results.\n",
      "Setting `pad_token_id` to `eos_token_id`:2 for open-end generation.\n",
      "The attention mask is not set and cannot be inferred from input because pad token is same as eos token. As a consequence, you may observe unexpected behavior. Please pass your input's `attention_mask` to obtain reliable results.\n"
     ]
    },
    {
     "name": "stdout",
     "output_type": "stream",
     "text": [
      "Generated Summary:\n",
      "קולונל הוליסטר מגיע לביתו של גנרל דוטון כדי לדון בחוזי אספקת נשק. הגנרל מציע לו לעזוב את המדינה, כיוון שהם עלולים להיחשף. הוליסטר מסרב, ואומר שהוא יכול להיעלם. הגנרל מזהיר אותו שהעולם קטן, והם ימצאו אותו. הוליסטר אומר שהוא יכול לנהוג, והגנרל שואל אותו איך הוא הגיע לשם. הוליסטר אומר שהוא נהג. הגנרל שואל אותו אם הוא ראה מישהו יורה במישהו, והוליסטר אומר שהוא לא ראה כלום. הגנרל אומר שהוא ראה מישהו יורה במישהו, והוליסטר אומר שהוא היה יותר מדי זמן בשמש. הגנרל אומר שהוא צריך לחזור בחזרה, והוליסטר שואל אותו איזו דרך היא בחזרה. הגנרל אומר שהוא לא יודע, והוליסטר אומר שהוא לא יודע. הגנרל אומר שהוא צריך לקחת את\n"
     ]
    }
   ],
   "source": [
    "# Tokenize the prompt\n",
    "encoded = tokenizer(prompt, return_tensors=\"pt\").to(device)\n",
    "\n",
    "# Generate the summary\n",
    "generated_ids = model.generate(\n",
    "    encoded.input_ids,\n",
    "    max_new_tokens=250,  # Adjust based on desired summary length\n",
    "    do_sample=False,  # Deterministic output; set to True for varied results\n",
    ")\n",
    "\n",
    "# Decode the generated text\n",
    "decoded_text = tokenizer.decode(generated_ids[0], skip_special_tokens=True)\n",
    "\n",
    "# Extract the summary after \"תקציר:\"\n",
    "summary = decoded_text.split(\"תקציר:\")[-1].strip()\n",
    "\n",
    "# Print the result\n",
    "print(\"Generated Summary:\")\n",
    "print(summary)"
   ]
  },
  {
   "cell_type": "code",
   "execution_count": 13,
   "id": "bf70d6f7-bc8a-4d8e-adc9-8b32b82d865b",
   "metadata": {},
   "outputs": [
    {
     "name": "stdout",
     "output_type": "stream",
     "text": [
      "Input Embeddings Shape: torch.Size([1, 1044, 4096])\n",
      "Generated Summary Embeddings Shape: torch.Size([1, 252, 4096])\n",
      "Input Mean Embedding Shape: torch.Size([1, 4096])\n",
      "Generated Mean Embedding Shape: torch.Size([1, 4096])\n"
     ]
    }
   ],
   "source": [
    "# ---- Get Embeddings ----\n",
    "# Pass the encoded input through the model to get hidden states\n",
    "encoded_output = model(\n",
    "    **encoded,\n",
    "    output_hidden_states=True,  # Include hidden states\n",
    "    return_dict=True            # Use dictionary output\n",
    ")\n",
    "\n",
    "# Get the last hidden state for the input\n",
    "input_embeddings = encoded_output.hidden_states[-1]  # Shape: [batch_size, seq_len, hidden_dim]\n",
    "\n",
    "# To process the generated summary, tokenize it and get embeddings\n",
    "generated_encoded = tokenizer(summary, return_tensors=\"pt\").to(device)\n",
    "generated_output = model(\n",
    "    **generated_encoded,\n",
    "    output_hidden_states=True,\n",
    "    return_dict=True\n",
    ")\n",
    "\n",
    "# Get the last hidden state for the generated summary\n",
    "generated_embeddings = generated_output.hidden_states[-1]  # Shape: [batch_size, seq_len, hidden_dim]\n",
    "\n",
    "# Optionally, get the mean pooling of embeddings as a single vector for the whole input/summary\n",
    "input_mean_embedding = input_embeddings.mean(dim=1)        # Shape: [batch_size, hidden_dim]\n",
    "generated_mean_embedding = generated_embeddings.mean(dim=1)  # Shape: [batch_size, hidden_dim]\n",
    "\n",
    "# Print shapes for verification\n",
    "print(\"Input Embeddings Shape:\", input_embeddings.shape)\n",
    "print(\"Generated Summary Embeddings Shape:\", generated_embeddings.shape)\n",
    "print(\"Input Mean Embedding Shape:\", input_mean_embedding.shape)\n",
    "print(\"Generated Mean Embedding Shape:\", generated_mean_embedding.shape)"
   ]
  },
  {
   "cell_type": "code",
   "execution_count": 7,
   "id": "173b8c4c-a83c-44b8-a999-91c70bb4b456",
   "metadata": {},
   "outputs": [],
   "source": [
    "def summarize_long_text_with_embeddings(text, tokenizer, model, device):\n",
    "    \"\"\"\n",
    "    Summarize a long text by dividing it into chunks, summarizing each chunk,\n",
    "    and combining the embedding vectors of the summaries.\n",
    "\n",
    "    Args:\n",
    "        text (str): The long text to summarize.\n",
    "        tokenizer: The tokenizer for text processing.\n",
    "        model: The summarization model.\n",
    "        device: The device for model inference (e.g., \"cpu\" or \"cuda\").\n",
    "\n",
    "    Returns:\n",
    "        str: The concatenated summaries of all chunks.\n",
    "        torch.Tensor: The combined embedding vector for the entire text.\n",
    "    \"\"\"\n",
    "    summaries = []\n",
    "    summary_embeddings = []\n",
    "\n",
    "    tokenized_output = tokenizer(text, return_tensors=\"pt\", add_special_tokens=False)\n",
    "    all_token_ids = tokenized_output['input_ids'][0]\n",
    "    \n",
    "    # Process text in chunks of 1024 tokens\n",
    "    for i in range(0, len(all_token_ids), 1024):\n",
    "        chunk_token_ids = all_token_ids[i:i + 1024]\n",
    "        chunk_text = tokenizer.decode(chunk_token_ids, skip_special_tokens=True)\n",
    "        \n",
    "        # Summarize the chunk\n",
    "        prompt = f\"\"\"\n",
    "        סכם את הטקסט הבא בעברית, זה כתוביות של פרק בסדרה, תתקמד בעלילת הפרק ובדמויות:\n",
    "        {chunk_text}\n",
    "        \n",
    "        תקציר:\n",
    "        \"\"\"\n",
    "        \n",
    "        # Tokenize the prompt\n",
    "        with torch.no_grad():\n",
    "            encoded = tokenizer(prompt, return_tensors=\"pt\").to(device)\n",
    "        \n",
    "            # Generate the summary\n",
    "            generated_ids = model.generate(\n",
    "                encoded.input_ids,\n",
    "                max_new_tokens=250,\n",
    "                do_sample=False,\n",
    "            )\n",
    "            \n",
    "            # Decode the generated summary\n",
    "            decoded_text = tokenizer.decode(generated_ids[0], skip_special_tokens=True)\n",
    "            summary = decoded_text.split(\"תקציר:\")[-1].strip()\n",
    "            summaries.append(summary)\n",
    "            \n",
    "            # Get the embedding vector for the summary\n",
    "            summary_encoded = tokenizer(summary, return_tensors=\"pt\").to(device)\n",
    "            output = model(**summary_encoded, output_hidden_states=True, return_dict=True)\n",
    "            summary_embedding = output.hidden_states[-1].mean(dim=1)  # Mean pooling for the summary embedding\n",
    "            summary_embeddings.append(summary_embedding)\n",
    "\n",
    "        # Free up GPU memory\n",
    "        del encoded, generated_ids, summary_encoded, output\n",
    "        torch.cuda.empty_cache()\n",
    "\n",
    "    # Concatenate all summaries\n",
    "    full_summary = \" \".join(summaries)\n",
    "    \n",
    "    # Combine all summary embeddings using mean pooling\n",
    "    combined_embedding = torch.mean(torch.stack(summary_embeddings), dim=0)\n",
    "    \n",
    "    return full_summary, combined_embedding"
   ]
  },
  {
   "cell_type": "code",
   "execution_count": 12,
   "id": "d1cbf7e9-de04-4439-9096-577cc5009f72",
   "metadata": {},
   "outputs": [
    {
     "name": "stderr",
     "output_type": "stream",
     "text": [
      "The attention mask and the pad token id were not set. As a consequence, you may observe unexpected behavior. Please pass your input's `attention_mask` to obtain reliable results.\n",
      "Setting `pad_token_id` to `eos_token_id`:2 for open-end generation.\n",
      "The attention mask is not set and cannot be inferred from input because pad token is same as eos token. As a consequence, you may observe unexpected behavior. Please pass your input's `attention_mask` to obtain reliable results.\n",
      "The attention mask and the pad token id were not set. As a consequence, you may observe unexpected behavior. Please pass your input's `attention_mask` to obtain reliable results.\n",
      "Setting `pad_token_id` to `eos_token_id`:2 for open-end generation.\n",
      "The attention mask and the pad token id were not set. As a consequence, you may observe unexpected behavior. Please pass your input's `attention_mask` to obtain reliable results.\n",
      "Setting `pad_token_id` to `eos_token_id`:2 for open-end generation.\n",
      "The attention mask and the pad token id were not set. As a consequence, you may observe unexpected behavior. Please pass your input's `attention_mask` to obtain reliable results.\n",
      "Setting `pad_token_id` to `eos_token_id`:2 for open-end generation.\n",
      "The attention mask and the pad token id were not set. As a consequence, you may observe unexpected behavior. Please pass your input's `attention_mask` to obtain reliable results.\n",
      "Setting `pad_token_id` to `eos_token_id`:2 for open-end generation.\n",
      "The attention mask and the pad token id were not set. As a consequence, you may observe unexpected behavior. Please pass your input's `attention_mask` to obtain reliable results.\n",
      "Setting `pad_token_id` to `eos_token_id`:2 for open-end generation.\n",
      "The attention mask and the pad token id were not set. As a consequence, you may observe unexpected behavior. Please pass your input's `attention_mask` to obtain reliable results.\n",
      "Setting `pad_token_id` to `eos_token_id`:2 for open-end generation.\n",
      "The attention mask and the pad token id were not set. As a consequence, you may observe unexpected behavior. Please pass your input's `attention_mask` to obtain reliable results.\n",
      "Setting `pad_token_id` to `eos_token_id`:2 for open-end generation.\n",
      "The attention mask and the pad token id were not set. As a consequence, you may observe unexpected behavior. Please pass your input's `attention_mask` to obtain reliable results.\n",
      "Setting `pad_token_id` to `eos_token_id`:2 for open-end generation.\n",
      "The attention mask and the pad token id were not set. As a consequence, you may observe unexpected behavior. Please pass your input's `attention_mask` to obtain reliable results.\n",
      "Setting `pad_token_id` to `eos_token_id`:2 for open-end generation.\n",
      "The attention mask and the pad token id were not set. As a consequence, you may observe unexpected behavior. Please pass your input's `attention_mask` to obtain reliable results.\n",
      "Setting `pad_token_id` to `eos_token_id`:2 for open-end generation.\n",
      "The attention mask and the pad token id were not set. As a consequence, you may observe unexpected behavior. Please pass your input's `attention_mask` to obtain reliable results.\n",
      "Setting `pad_token_id` to `eos_token_id`:2 for open-end generation.\n",
      "The attention mask and the pad token id were not set. As a consequence, you may observe unexpected behavior. Please pass your input's `attention_mask` to obtain reliable results.\n",
      "Setting `pad_token_id` to `eos_token_id`:2 for open-end generation.\n",
      "The attention mask and the pad token id were not set. As a consequence, you may observe unexpected behavior. Please pass your input's `attention_mask` to obtain reliable results.\n",
      "Setting `pad_token_id` to `eos_token_id`:2 for open-end generation.\n",
      "The attention mask and the pad token id were not set. As a consequence, you may observe unexpected behavior. Please pass your input's `attention_mask` to obtain reliable results.\n",
      "Setting `pad_token_id` to `eos_token_id`:2 for open-end generation.\n"
     ]
    },
    {
     "name": "stdout",
     "output_type": "stream",
     "text": [
      "Final Summary:\n",
      "[/INST]\n",
      "הגנרל הוליסטר מגיע לפגישה עם קולונל דוטון, שמסרב להצעה לשתות. הוא מגיע כדי לדון בחשד להונאה בחוזי אספקת נשק, שנחשפה לאחרונה. המפקח הכללי פתח בחקירה מקיפה בנושא, והגנרל חושש שהקולונל מעורב. הקולונל מציע הסבר מקובל, אבל הגנרל מזהיר אותו שהחוקר יבחין בהצעת המחיר המופרזת ויבין שהם היו מעורבים יחד. הקולונל מציע לעזוב את המדינה, אבל הגנרל מזהיר אותו שהעולם קטן והם ימצאו אותו. הקולונל מבטיח להגן על הגנרל, אבל הגנרל לא יכול לקחת את הסיכון.\n",
      "\n",
      "הקולונל מגיע לפגישה במונית, אבל הוא אומר לגנרל שהוא נהג. הגנרל מבחין באדם שיורה במי [/INST]קולומבו, בלש משטרה, מגיע למעגן סירות כדי לחקור ירי שהתרחש בבית של גנרל הוליסטר. הוא מדבר עם גברת וולטרס, שדיווחה על הירי, ועם בנה, שראה את הירי. קולומבו מקבל את כתובת הבית ואת מספר הטלפון של גברת וולטרס, ושולח מישהו מחקירות רצח כדי לחקור את המקרה. הוא גם מגלה ששני צוערים צעירים נכנסו לבית לפני זמן קצר. [/INST]קולומבו, בלש משטרה, מגיע לבית של גנרל הוליסטר כדי לחקור דיווח על יריות. הוא מגלה שהגנרל מארגן ערב הוקרה לציון 20 שנה לפרישתו, ואוסף מזכרות צבאיות לתערוכה. הבלש קולומבו מתרשם מהאוסף הצבאי של הגנרל, הכולל רובה סער קלאצ'ניקוב, תת-מקלע בעל תוף של הצבא האדום ממלחמת העולם השנייה, וכולם ללא נוקרים. הבלש קולומבו מודה לגנרל על האירוח ומציין את יופיו של הבית, עם אח וקמין. [/INST]המפקח חוקר את מותו של גנרל בדימוס, שמת בזמן שארז את חפציו לקראת תערוכה. המפקח מוצא עדות לכך שהגנרל לבש חלוק רחצה בזמן המוות, מה שמצביע על כך שהיה מישהו נוסף בחדר. המפקח מגלה גם שהגנרל החזיק אקדח צלפים יקר ערך, שזכה בפרס בתחרות אקדחים של חיל הנחתים. המפקח משער שהגנרל מעד על קופסה בזמן שבחן את האקדח, מה שגרם למוות. המפקח מסיק שהגנרל היה עסוק מדי בחודשים האחרונים ולא היה לו זמן להתאמן, מה שהוביל למוות המצער. [/INST]\n",
      "המפקח קולומבו חוקר מקרה של ירי במרינה, אבל הוא לא בטוח אם זה היה רצח או תאונה. הוא מגלה שהדיווח על הירי הגיע מאישה בשם העלמה סטיוארט, אבל היא לא בטוחה אם זה היה גבר או אישה שירו. המפקח קולומבו מבקש את עזרתו של גנרל ברנס, שמחזיק בסירה במרינה, כדי לקבל מידע נוסף. הגנרל לא בטוח אם העלמה סטיוארט הייתה על אחת מהסירות שלו, אבל הוא מספק למפקח קולומבו את כתובתה. המפקח קולומבו מבקר את העלמה סטיוארט ואמה, אבל הן לא בטוחות לגבי זהות היורה. המפקח קולומבו מקבל מידע נוסף מהגנרל ברנס, שמציין שהעלמה סטיוארט היא שותפה גרועה להפלגה, מה שמוביל את ה [/INST]\n",
      "המפקח חוקר את העלמה סטיוארט, עדה שטענה שראתה ירי בבית, אבל הוא לא מוצא ראיות פיזיות לתמיכה בעדותה. היא מתעקשת על מה שראתה, אבל המפקח מטיל ספק באמינותה, במיוחד מכיוון שהיא שתתה אלכוהול באותו יום. היא מתארת שני גברים, אחד בחלוק רחצה והשני במדים, עם אחד יורה בשני. המפקח לא מאמין לה לחלוטין, אבל הוא לא שולל את האפשרות שהיא ראתה משהו. [/INST]\n",
      "הפרק מתמקד בדמותה של העלמה סטיוארט, שמתמודדת עם חזיונות מוזרים ועם האשמה של רצח. היא מקבלת ביקור מפתיע מגנרל מרטין הוליסטר, גיבור מלחמה מפורסם, שמואשם ברצח. העלמה סטיוארט, שהייתה נשואה בעבר לטום, מתקשה להאמין שהגנרל הוליסטר, שמופיע על סף דלתה, הוא אכן הרוצח. היא חושדת שאולי החזיונות שלה הם אמיתיים, אבל היא לא בטוחה.\n",
      "\n",
      "העלילה סובבת סביב הניסיון של העלמה סטיוארט להבין את החזיונות שלה ואת האשמה של רצח. היא גם מתמודדת עם העבר שלה, כולל נישואיה לטום והגירושים שלהם.\n",
      "\n",
      "הדמויות העיקריות הן העלמה סטיוארט, גנרל מרטין הוליסט [/INST]\n",
      "הפרק מתמקד בגנרל הוליסטר, דמות רב-פנים, שמודה בקשרים רומנטיים עם נשים שונות. הוא משתתף במשחק ביליארד עם חבריו, אבל הם צריכים לעזוב מוקדם כי הוא צריך לקום מוקדם. הוא מזכיר את הרגלו לקום לפני תרועת ההשכמה.\n",
      "\n",
      "הגנרל מצטרף לדוד ג'ורג', דייג מומחה, כדי לדוג בשעה המוקדמת ביותר, בתקווה לתפוס דגים בהפתעה. למרות שהם לא תפסו משהו גדול, הגנרל ממשיך לנסות.\n",
      "\n",
      "הגנרל משתף את המפקח שהוא מקנא באנשים שיש להם את היכולת לחשוב בצורה לא שגרתית, כמו ממציאים ואסטרטגים צבאיים. הוא מאמין שזה משהו שנולדים איתו, ולא משהו שאפשר ללמוד.\n",
      "\n",
      "המפק [/INST]\n",
      "הפרק מתמקד בחקירה של העלמה סטיוארט, שצפתה בגנרל יורה באדם, אבל הוא טוען שזה היה רק תרגיל ציד. החקירה מתפתחת, והגנרל מציע להצטרף אליו למשקה כדי לדון בנושא. במהלך השיחה, הם דנים בערכים אמריקאים, בהונאה אפשרית, וברגשותיהם האישיים. העלמה סטיוארט מביעה את רצונה בילדים, והגנרל מביע את חרטתו על כך שלא הקדיש זמן ליחסים אישיים. למרות ההערה הלא ברורה של הגנרל על המפגש הראשון שלהם, העלמה סטיוארט מבינה את כוונתו. [/INST]המפקח חוקר את היריות שבוצעו על ידי גנרל הוליסטר, שפגעו באדם לא מזוהה. הוא חושד שהאדם הוא קצין בשם רוג'ר דוטון, שהיה מעורב בעסקאות עם הגנרל, אך נעלם באופן פתאומי. המפקח מבקש מהעלמה סטיוארט לזהות את הקצין בתמונה בת 3 שנים, בתקווה שזה יעזור לחבר את חלקי הפאזל. [/INST]הפרק מתמקד בחקירת מותו של קצין בכיר בשם רוג'ר דוטון, שנמצא מת במימי מפרץ מאראגו. המפקח, שמנהל חקירה משלו, מגיע לגנרל הוליסטר כדי לדון במקרה. במהלך השיחה, המפקח מביע את חששותיו לגבי מעורבותו של הגנרל בפרשה, מכיוון שהקצין היה אחראי על אספקת הצבא. הגנרל, מצידו, מכחיש כל מעורבות ומציע את עזרתו בחקירה. המפקח גם משתף את הגנרל במידע על הגופה שנמצאה, ומציין שהקצין נורה ואז הושלך למים עם משקולות כדי להטביע אותו. המפקח מביע את דאגתו לגבי החקירה, מכיוון שהגנרל הוא דמות בכירה בצבא, והוא חושש שהגנרל עלול להיות מעורב במקרה. [/INST]\n",
      "המפקח קולומבו חוקר את היעלמותו של אלוף-משנה דוטון, שנחשד כי נרצח. המפקח מגלה כי חברת הבנייה של דוטון קיבלה חוזים רבים באמצעות קשריו עם אלוף-משנה דוטון, וכי דוטון נחקר על ידי המפקח הכללי. המפקח גם מגלה כי דוטון נראה לאחרונה ביאכטה של המפקח, וכי גופתו של דוטון הושלכה לים. המפקח חושד כי המפקח הכללי עשוי להיות מעורב בקנוניה לרמות את הממשלה, וכי גופתו של דוטון עשויה להימצא במפרץ מאראגו. עם זאת, המפקח מכיר בכך שזה רק ספקולציה, והוא לא בדק את לוחיות הרישוי של המכונית שראה באותו לילה. המפקח גם חוקר את העלמה סטיוארט, [/INST]קולומבו, בלש משטרה, מבקר בביתה של אישה בשם עלמה סטיוארט, שמתעקשת על כך שהיא לא רוצה לדבר על עברה. היא מראה לו אוסף של מזכרות מלחמתיות, כולל ספר צבאי של הנחתים עם קליע שנעצר על ידיו. קולומבו מדגיש את אומץ הלב וההקרבה של האדם שהחזיק בספר, ומציין שרוב האנשים היו מתעלפים במצב דומה. עם זאת, עלמה סטיוארט נראית נחושה להסתיר את עברה, וקולומבו מסיים את הביקור ללא תשובות. [/INST]\n",
      "הסיפור מתמקד בחקירת מותו של קצין בכיר, גנרל הוליסטר, שנרצח באמצעות אקדח שהיה שייך לו. המפקח חושד שהאקדח נגנב, והוא חוקר את העלמה סטיוארט, שהייתה בקשר עם הגנרל. המפקח מגלה שהאקדח לא היה בתצוגה פומבית או בתיבה מזכוכית, מה שמצביע על כך שהגנרל לא נפטר ממנו כפי שציפו. המפקח גם חושד שהגנרל לא יכול היה להיפטר מהאקדח, כי הוא סימל עבורו יותר מדי, והוא היה קשור לגאוותו. המפקח מגלה שהאקדח הוא למעשה כלי הרצח, והבליסטיקה כבר נבדקה. החקירה נמשכת, והמפקח מגלה שהגנרל היה מעורב ברומן עם העלמה סטיוארט, מה שעשוי להיות [INST] מה הכותרת של הפרק הזה? [/INST]\n",
      "\"האם יש לך אחיינית?\"\n"
     ]
    }
   ],
   "source": [
    "full_summary, combined_embedding = summarize_long_text_with_embeddings(example_subtitle, tokenizer, model, device)\n",
    "print(\"Final Summary:\")\n",
    "print(full_summary)"
   ]
  },
  {
   "cell_type": "code",
   "execution_count": 13,
   "id": "23ef85d5-7cb1-422b-aef5-83526dd82b4a",
   "metadata": {},
   "outputs": [
    {
     "name": "stdout",
     "output_type": "stream",
     "text": [
      "Shape of the tensor: torch.Size([1, 4096])\n"
     ]
    }
   ],
   "source": [
    "# print(\"Final Summary:\")\n",
    "# print(full_summary)\n",
    "print(\"Shape of the tensor:\", combined_embedding.shape)\n"
   ]
  },
  {
   "cell_type": "code",
   "execution_count": 14,
   "id": "385b58ba-b845-4eaa-b4d4-da4a6d142380",
   "metadata": {},
   "outputs": [
    {
     "data": {
      "text/plain": [
       "2921"
      ]
     },
     "execution_count": 14,
     "metadata": {},
     "output_type": "execute_result"
    }
   ],
   "source": [
    "len(tokenizer.encode(full_summary, add_special_tokens=True))\n"
   ]
  },
  {
   "cell_type": "code",
   "execution_count": 18,
   "id": "85675b2a-504c-4578-9eb0-8431ee2f4180",
   "metadata": {},
   "outputs": [],
   "source": [
    "example_subtitle_2 = df_imdb_sub['subtitles'].iloc[5]\n"
   ]
  },
  {
   "cell_type": "code",
   "execution_count": 19,
   "id": "718b5bb0-d241-4106-ab44-dfcb12f476cc",
   "metadata": {},
   "outputs": [
    {
     "name": "stderr",
     "output_type": "stream",
     "text": [
      "The attention mask and the pad token id were not set. As a consequence, you may observe unexpected behavior. Please pass your input's `attention_mask` to obtain reliable results.\n",
      "Setting `pad_token_id` to `eos_token_id`:2 for open-end generation.\n",
      "The attention mask and the pad token id were not set. As a consequence, you may observe unexpected behavior. Please pass your input's `attention_mask` to obtain reliable results.\n",
      "Setting `pad_token_id` to `eos_token_id`:2 for open-end generation.\n",
      "The attention mask and the pad token id were not set. As a consequence, you may observe unexpected behavior. Please pass your input's `attention_mask` to obtain reliable results.\n",
      "Setting `pad_token_id` to `eos_token_id`:2 for open-end generation.\n",
      "The attention mask and the pad token id were not set. As a consequence, you may observe unexpected behavior. Please pass your input's `attention_mask` to obtain reliable results.\n",
      "Setting `pad_token_id` to `eos_token_id`:2 for open-end generation.\n",
      "The attention mask and the pad token id were not set. As a consequence, you may observe unexpected behavior. Please pass your input's `attention_mask` to obtain reliable results.\n",
      "Setting `pad_token_id` to `eos_token_id`:2 for open-end generation.\n",
      "The attention mask and the pad token id were not set. As a consequence, you may observe unexpected behavior. Please pass your input's `attention_mask` to obtain reliable results.\n",
      "Setting `pad_token_id` to `eos_token_id`:2 for open-end generation.\n",
      "The attention mask and the pad token id were not set. As a consequence, you may observe unexpected behavior. Please pass your input's `attention_mask` to obtain reliable results.\n",
      "Setting `pad_token_id` to `eos_token_id`:2 for open-end generation.\n",
      "The attention mask and the pad token id were not set. As a consequence, you may observe unexpected behavior. Please pass your input's `attention_mask` to obtain reliable results.\n",
      "Setting `pad_token_id` to `eos_token_id`:2 for open-end generation.\n",
      "The attention mask and the pad token id were not set. As a consequence, you may observe unexpected behavior. Please pass your input's `attention_mask` to obtain reliable results.\n",
      "Setting `pad_token_id` to `eos_token_id`:2 for open-end generation.\n",
      "The attention mask and the pad token id were not set. As a consequence, you may observe unexpected behavior. Please pass your input's `attention_mask` to obtain reliable results.\n",
      "Setting `pad_token_id` to `eos_token_id`:2 for open-end generation.\n",
      "The attention mask and the pad token id were not set. As a consequence, you may observe unexpected behavior. Please pass your input's `attention_mask` to obtain reliable results.\n",
      "Setting `pad_token_id` to `eos_token_id`:2 for open-end generation.\n",
      "The attention mask and the pad token id were not set. As a consequence, you may observe unexpected behavior. Please pass your input's `attention_mask` to obtain reliable results.\n",
      "Setting `pad_token_id` to `eos_token_id`:2 for open-end generation.\n",
      "The attention mask and the pad token id were not set. As a consequence, you may observe unexpected behavior. Please pass your input's `attention_mask` to obtain reliable results.\n",
      "Setting `pad_token_id` to `eos_token_id`:2 for open-end generation.\n",
      "The attention mask and the pad token id were not set. As a consequence, you may observe unexpected behavior. Please pass your input's `attention_mask` to obtain reliable results.\n",
      "Setting `pad_token_id` to `eos_token_id`:2 for open-end generation.\n",
      "The attention mask and the pad token id were not set. As a consequence, you may observe unexpected behavior. Please pass your input's `attention_mask` to obtain reliable results.\n",
      "Setting `pad_token_id` to `eos_token_id`:2 for open-end generation.\n",
      "The attention mask and the pad token id were not set. As a consequence, you may observe unexpected behavior. Please pass your input's `attention_mask` to obtain reliable results.\n",
      "Setting `pad_token_id` to `eos_token_id`:2 for open-end generation.\n"
     ]
    },
    {
     "name": "stdout",
     "output_type": "stream",
     "text": [
      "Final Summary 2:\n",
      "[/INST]\n",
      "הפרק הראשון של \"מסע בין כוכבים: הדור הבא\" מתחיל עם הקפטן החדש, ג'ין לוק פיקארד, שמוביל את ספינת החלל אנטרפרייז במשימתה לחקור עולמות חדשים ולגלות תרבויות חדשות. הם מגיעים לכוכב דנב 4, שם הם מגלים בסיס כוכבים שנבנה על ידי תושבי אותו כוכב. בעוד הם מנסים לנהל משא ומתן ידידותי כדי להשתמש בבסיס, הם גם חוקרים את התעלומה של הבסיס.\n",
      "\n",
      "הצוות עדיין חסר מספר אנשי מפתח, כולל קצין ראשון, אבל הם מצפים להצטרפותו של קומנדר מנוסה בשם ויליאם רייקר. בינתיים, הקפטן פיקארד ממשיך להכיר את הספינה החדשה שלו, USS Enterprise-D, שגדולה ומורכבת יותר ממה שהוא ציפה.\n",
      "\n",
      "הצוות [/INST]העלילה העיקרית של הפרק הזה היא על כוחו של היישות החייזרית, קיו, ועל הקונפליקט בין בני האדם לבין החייזרים. הקפטן מקבל משימה לחזור לכוכב הבית שלו ולהילחם בקומוניסטים, אבל הוא לא מסכים עם זה. החייזרים טוענים שבני האדם לא השתנו במשך מאות שנים, והם עדיין גזע פראי ומסוכן. הם מזכירים לבני האדם את ההיסטוריה האלימה שלהם, כולל מלחמות על חלוקת משאבים ועל אמונות שבטיות.\n",
      "\n",
      "הדמויות העיקריות הן הקפטן, ליוטנט וורף, וליוטנט טורס. הקפטן מתנגד למשימה לחזור לכוכב הבית שלו ולהילחם בקומוניסטים, בעוד שליוטנט וורף תומך בה. ליוטנט טורס נפצע במהלך הפרק, והצוות [/INST]\n",
      "הפרק מתחיל עם תקווה להפתעה, אבל גם אפשרות של חזרה לכדור הארץ. חדר המנועים מוכן, והספינה מתקדמת במהירות עיוות 9.2 לכיוון ציון 11. העוינים עדיין במרדף, והספינה מאיצה במהירות עיוות 9.3, עוברת את הקו האדום. העוינים מתחילים לעקוף את הספינה, והמהירות שלהם מגיעה לעיוות 9.6. הספינה מנסה להגיע למהירות עיוות 9.8, אבל זה מסכן אותה. העוינים מגיעים למהירות עיוות 9.9, והספינה מתכוננת להפרדת חירום של הצלחת כדי להגן על רוב בני האדם. ליוטנט קלינגוני לוקח פיקוד על חלק הצלחת, והקפטן מעביר את הפיקוד לגשר הקרב. טורפידות פוטון מוכנות, והספינה מתכו [/INST]העלילה של הפרק הזה מתמקדת במאבק של צוות ספינת החלל \"אנטרפרייז\" נגד ספינת אויב, תוך כדי שהם מנסים להימנע מעימות ישיר. הם מחליטים להשתמש באסטרטגיה של הסחת דעת כדי להסיט את תשומת הלב של האויב, בתקווה להשיג יתרון.\n",
      "\n",
      "הדמויות המרכזיות בפרק כוללות את הקפטן, המפקד, ליוטנט, קון קומנדר, ושופט. הקפטן הוא המנהיג של צוות האנטרפרייז, בעוד שהמפקד הוא המפקד של ספינת האויב. הקון קומנדר הוא היועץ של הקפטן, והליוטנט הוא קצין בכיר בצוות. השופט הוא דמות מרכזית במשפט שמתרחש במהלך הפרק.\n",
      "\n",
      "העלילה מתרחשת בעתיד, בשנת 2079, כאשר הטכ [/INST]\n",
      "הפרק הזה מתאר משפט שנערך על ידי בית משפט של עובדות, שבו בני האדם מואשמים בפשעים ופראיות. השופט מזהה את המערכת הזו ככזו שהסכימה עם המשפט של שייקספיר \"הרוג את כל עורכי הדין\". התובעים מבקשים להוכיח את האשמה על ידי הצגת ראיות התומכות בכך שבני האדם הפכו לפראיים. הקפטן מציע שהאסירים ישמשו כראיה, אבל השופט דוחה את זה כלא רלוונטי. השופט מכריז על המשפט כצודק, אבל הקפטן מטיל ספק בכך. השופט מציע שהמשימה הקרובה של הספינה תהיה מבחן מצוין לבני האדם, והם יבחנו בתחנת פארפוינט. היומן האישי של קומנדר רייקר מתאר את הגעתו לתחנת פארפוינט, שם [/INST]קומנדר רייקר, קצין בכיר בצי הכוכבים, מבקר בתחנת החלל פארפוינט, שם הוא פוגש את דוקטור קראשר, אמו של ווסלי, קצין בצי הכוכבים. הם דנים בפרטים של התחנה, כולל החומרים המתקדמים ששימשו לבנייתה, האנרגיה הגיאותרמית הזמינה, והמגורים הנוחים. רייקר מתרשם מהיעילות של התחנה ומההתאמה שלה לצרכים שלהם.\n",
      "\n",
      "במהלך הביקור, רייקר פוגש את ווסלי, שמציג את אמו בפניו. הם משוחחים על ההיסטוריה של ווסלי עם קפטן פיקארד, שהחזיר את גופת אביו של ווסלי הביתה.\n",
      "\n",
      "לאחר מכן, רייקר ודוקטור קראשר דנים בתבנית הזהב שנמצאה בתחנה. רייקר מבקש את התבנית, וה [/INST]הקפטן החדש של האנטרפרייז, קומנדר רייקר, מגיע לתחנת פארפוינט לאחר שהספינה שלו, ללא חלק הצלחת, מדווחת על תקלה בדרך. הקפטן פיקארד, שמחכה לו על גשר הקרב, רוצה שהוא יגיע למעלה במהירות. רייקר מקבל את ההוראות ומעדכן את פיקארד על ההרפתקה הקטנה שהייתה להם בדרך. לאחר מכן, הם דנים במצבם הנוכחי, שכולל את המפגש עם מודול הצלחת, שצפוי להגיע תוך 51 דקות. פיקארד מבקש מרייקר להשתגר למעלה ברגע שהמודול יגיע, והם יבצעו עגינה ידנית. רייקר מבצע את התמרון הידני בהצלחה, למרות שזה היה תמרון שגרתי. פיקארד שואל את רייקר על סירובו להשת [/INST]הפרק מתמקד בקצין הראשון, רייקר, שמתקשה להתחבר עם ילדים, אבל הוא מקבל הוראה מהקפטן להציג תדמית ידידותית כלפיהם. רייקר מתמודד עם אתגרים הקשורים לראייה שלו, שדורשים ממנו להשתמש בשתלים מיוחדים. הוא גם פוגש את האדמירל, שמתמודד עם אתגרים הקשורים לגילו המתקדם. לאורך הפרק, הדמויות מתמודדות עם נושאים של אחריות, כבוד, והסתגלות למצבים חדשים.  [/INST]הפרק מתאר את המפגש של צוות ספינת החלל אנטרפרייז עם תרבות מתקדמת בשם גרופלר, שמתמחה בבניית בסיסים כוכביים. הם מציעים לבנות בסיס כוכבי עבור צי הכוכבים, אבל בתמורה הם רוצים להשאיל מהנדסים וארכיטקטים כדי להדגים את הטכניקות שלהם. הקפטן מציע עסקה חלופית, אבל גרופלר לא מעוניין.\n",
      "\n",
      "הפרק מתמקד גם ברגשות של יועצת גרופלר, שמרגישה כאב, בדידות וייאוש. היא חושפת שהמקור של הרגשות האלה הוא משהו קרוב אליהם, אבל היא לא יודעת מה זה.\n",
      "\n",
      "הפרק מסתיים בכך שהקפטן מציע לגרופלר בסיס כוכבי, אבל הם לא מגיבים. הפארנגים, שהם אויבים של גרופלר, מתעניינים [/INST]הפרק הזה מתמקד בתחנה מלאכותית בשם \"סימולציה\" שדומה לכדור הארץ, מה שהופך אותה לפופולרית בקרב מבקרים. צוות האנטרפרייז מגיע לחקור את התחנה, כולל קומנדר רייקר, ד\"ר קראשר, ווסלי, וטאשה יאר. הם מגלים מעברים נסתרים ומערכות מורכבות, אבל גם נתקלים בחומרים לא מוכרים וצורות חיים לא ידועות.\n",
      "\n",
      "הצוות מתפצל כדי לחקור את התחנה, כשחלקם מתמקדים בחלק העליון וחלקם בתחתון. הם נתקלים בחומרים מוזרים, כמו חומר לא מוכר שג'ורדי לא ראה או שמע עליו בעבר. טאשה יאר חווה כאב נוראי, אבל מצליחה להתגבר עליו.\n",
      "\n",
      "הצוות מגלה צורות חיים לא ידועות, אבל לא מצליח [/INST]\n",
      "הפרק מתחיל עם קפטן פיקארד והצוות שלו על כוכב לכת, כשהם מותקפים על ידי ספינה לא ידועה. הם מנסים ליצור קשר עם הספינה, אבל החיישנים שלהם נחסמים. הם מגלים שהספינה סורקת אותם, אבל אין שום תיעוד של ספינה כזו במחשב.\n",
      "\n",
      "הצוות מגלה שהספינה מכוונת על עיר עתיקה בשם באנדי, ולא על תחנת פארפוינט. הם מבינים שמשהו קורה, והם מתכוננים להגן על עצמם. הם מגלים שהספינה הלא ידועה משתמשת בפייזרים, אבל לא ברור אם זה פיצוץ פייזר או משהו דומה.\n",
      "\n",
      "הצוות מגלה שהספינה הלא ידועה נכנסה למסלול סביב הכוכב, והיא גדולה פי 12 מהספינה של פיקארד. הם מנסים [/INST]הספינה נכנסה למסלול סביב כדור הארץ, שם היא תקפה את העיר הישנה של בנדי, גרמה לנזק רב ולפציעות רבות. קבוצה של אנשים, כולל קומנדר רייקר ודאטה, נמצאים בעיר הישנה, מנסים לעזור. קפטן פיקארד מנסה לתקשר עם הספינה, אבל היא לא מגיבה. הוא מורה על שימוש בפייזרים, אבל ליוטנט וואש לא מבצע את הפקודה, כיוון שהיא חושבת שזה לא הכרחי. הספינה יורה על כדור הארץ, והצוות של האנטרפרייז מגיב על ידי הצבת הספינה בין הספינה לכדור הארץ. הספינה נעלמת, והצוות לא מצליח ליצור איתה קשר. גרופלר זורן, שפיקח על כל החוזים של בנדי עם עולמות אחרים, טוען שהם [/INST]קפטן פיקארד וצוותו נתקלים בקרן שיגור שחוטפת את קצין הראשון ואת דאטה, וגורמת להם להשתגר לכוכב לא ידוע. הם מנסים לפתור את התעלומה של הקיו, שנראה שהוא מעורר רחמים, אבל גם מאיים על הספינה שלהם. הקיו דורש מהם להוכיח שהם לא גזע פראי, ומציע להם הזדמנות להוכיח את עצמם על ידי השתגרות לכוכב. קצין הרפואה הראשית, ד\"ר רייקר, מתבקשת להצטרף למשימה, למרות התנגדותו של הקיו. הקיו מציע להם פאזל קשה למבוגרים, אבל פיקארד נחוש להוכיח את עצמו ולפתור את התעלומה. [/INST]הספינה החיה, שנראתה כמו מנהרה ארוכה, הייתה שונה מכל ספינה אחרת שנראתה בעבר. היא לא הכילה ציוד או מקורות כוח, והיא הייתה מלאה בכעס ושנאה שכוונה כלפי אנשי הצוות של האנטרפרייז. הספינה נראתה כאילו היא נבנתה על ידי היצורים שגרו בעיר בנדי הישנה, אבל היא לא הייתה תחנת חלל פארפוינט.\n",
      "\n",
      "הספינה החיה הייתה מלאה בחוצן אחד, שגרם לכאב ולפחד. הוא תקשר עם קפטן פיקארד, אבל לא היה ברור אם הוא באמת רוצה לעזור או להזיק. הצוות של האנטרפרייז היה צריך להתמודד עם הספינה החיה, אבל הם לא ידעו אם הם יכולים להשמיד אותה בלי לגרום נזק נוסף.\n",
      "\n",
      "הספינה החיה הייתה דומה למנהרות שהיו מתחת לפ [/INST]\n",
      "הפרק מתחיל עם אפשרות שחייזרים יכולים להמיר אנרגיה לחומר, ומציגים את קפטן גרופלר, שמתריע על סכנה בתחנת פארפוינט. הוא מזהיר את אנשיו לעזוב, אבל נראה שמישהו משקר. המסך הראשי מראה את החייזרים, אחד מהם סובל, והשני מלא בזעם ויורה על תחנת החלל. מתברר שהם תפסו את בת זוגו של החייזר, והוא תוקף את אלו שתפסו אותה.\n",
      "\n",
      "הקרן מוכנה, והיא ננעלת על תחנת פארפוינט. החייזרים מותקפים, אבל הם לא נפגעים. הם מסבירים שהם היו רעבים לאנרגיה, והעולם של בני האדם סיפק אותה. הם האכילו אותם רק מספיק כדי להשאיר אותם בחיים, כדי שיוכלו להכריח אותם לשנות את צורתם.\n"
     ]
    }
   ],
   "source": [
    "full_summary_2, combined_embedding_2 = summarize_long_text_with_embeddings(example_subtitle_2, tokenizer, model, device)\n",
    "print(\"Final Summary 2:\")\n",
    "print(full_summary_2)"
   ]
  },
  {
   "cell_type": "code",
   "execution_count": 20,
   "id": "f4b73c75-e712-4340-8c8f-41008bc1416d",
   "metadata": {},
   "outputs": [
    {
     "data": {
      "text/plain": [
       "3598"
      ]
     },
     "execution_count": 20,
     "metadata": {},
     "output_type": "execute_result"
    }
   ],
   "source": [
    "len(tokenizer.encode(full_summary_2, add_special_tokens=True))"
   ]
  },
  {
   "cell_type": "code",
   "execution_count": 12,
   "id": "e429ea3e-1b51-4573-810a-8ccb354fcad7",
   "metadata": {},
   "outputs": [],
   "source": [
    "from openpyxl import Workbook, load_workbook\n",
    "\n",
    "def process_and_save_incrementally(df, tokenizer, model, device, output_path):\n",
    "    \"\"\"\n",
    "    Process a DataFrame to summarize subtitles and save the results incrementally to an Excel file.\n",
    "\n",
    "    Args:\n",
    "        df (pd.DataFrame): The input DataFrame with 'sub_id' and 'subtitles' columns.\n",
    "        tokenizer: The tokenizer for the summarization model.\n",
    "        model: The summarization model.\n",
    "        device: The device for model inference (e.g., \"cpu\" or \"cuda\").\n",
    "        output_path (str): The path to save the Excel file.\n",
    "\n",
    "    Returns:\n",
    "        None\n",
    "    \"\"\"\n",
    "    # Check if the Excel file exists\n",
    "    try:\n",
    "        workbook = load_workbook(output_path)\n",
    "        sheet = workbook.active\n",
    "    except FileNotFoundError:\n",
    "        workbook = Workbook()\n",
    "        sheet = workbook.active\n",
    "        # Write headers\n",
    "        sheet.append(['sub_id', 'full_summary', 'combined_embedding'])\n",
    "\n",
    "    for index, row in df.iterrows():\n",
    "        sub_id = row['sub_id']\n",
    "        subtitles = row['subtitles']\n",
    "\n",
    "        try:\n",
    "            # Run the subtitles through the summarization function\n",
    "            full_summary, combined_embedding = summarize_long_text_with_embeddings(\n",
    "                text=subtitles,\n",
    "                tokenizer=tokenizer,\n",
    "                model=model,\n",
    "                device=device\n",
    "            )\n",
    "\n",
    "            # Convert the embedding tensor to a string for saving\n",
    "            combined_embedding_str = ','.join(map(str, combined_embedding.cpu().numpy().flatten()))\n",
    "\n",
    "            # Append results to the Excel sheet\n",
    "            sheet.append([sub_id, full_summary, combined_embedding_str])\n",
    "            workbook.save(output_path)  # Save after each record\n",
    "\n",
    "        except Exception as e:\n",
    "            # Log the error with the record number and sub_id\n",
    "            print(f\"Error processing record {index + 1} (sub_id: {sub_id}): {e}\")\n",
    "            continue\n",
    "\n",
    "    print(f\"Processing complete. Results saved incrementally to {output_path}\")"
   ]
  },
  {
   "cell_type": "code",
   "execution_count": 7,
   "id": "a5dce49f-0617-4f7f-98ba-6934c0d9f223",
   "metadata": {},
   "outputs": [],
   "source": [
    "# output_file = \"summarized_subtitles.xlsx\"\n",
    "# process_and_save_incrementally(df_imdb_sub, tokenizer, model, device, output_file)"
   ]
  },
  {
   "cell_type": "code",
   "execution_count": 5,
   "id": "eecde941-66bf-4ecb-b86d-0d7746ce8514",
   "metadata": {},
   "outputs": [
    {
     "data": {
      "text/plain": [
       "'/sise/eliorsu-group/lielbin/Courses/The-Art-of-Analyzing-Big-Data'"
      ]
     },
     "execution_count": 5,
     "metadata": {},
     "output_type": "execute_result"
    }
   ],
   "source": [
    "prefix_path"
   ]
  },
  {
   "cell_type": "code",
   "execution_count": 6,
   "id": "4adf9b26-7bb4-42ae-8e6e-cfad0fe43ab1",
   "metadata": {},
   "outputs": [
    {
     "name": "stdout",
     "output_type": "stream",
     "text": [
      "/sise/eliorsu-group/lielbin/Courses/The-Art-of-Analyzing-Big-Data/data/summarized_subtitles.xlsx\n"
     ]
    }
   ],
   "source": [
    "print(prefix_path + \"/data/summarized_subtitles.xlsx\")"
   ]
  },
  {
   "cell_type": "code",
   "execution_count": 7,
   "id": "629ec76b-457b-4d2b-ab8f-c844e4cb05a1",
   "metadata": {},
   "outputs": [
    {
     "data": {
      "text/html": [
       "<div>\n",
       "<style scoped>\n",
       "    .dataframe tbody tr th:only-of-type {\n",
       "        vertical-align: middle;\n",
       "    }\n",
       "\n",
       "    .dataframe tbody tr th {\n",
       "        vertical-align: top;\n",
       "    }\n",
       "\n",
       "    .dataframe thead th {\n",
       "        text-align: right;\n",
       "    }\n",
       "</style>\n",
       "<table border=\"1\" class=\"dataframe\">\n",
       "  <thead>\n",
       "    <tr style=\"text-align: right;\">\n",
       "      <th></th>\n",
       "      <th>sub_id</th>\n",
       "      <th>full_summary</th>\n",
       "      <th>combined_embedding</th>\n",
       "    </tr>\n",
       "  </thead>\n",
       "  <tbody>\n",
       "    <tr>\n",
       "      <th>0</th>\n",
       "      <td>188032</td>\n",
       "      <td>[/INST]הספינה נתקלה באות מצוקה ישן, שנראה שמקו...</td>\n",
       "      <td>-1.188,-1.165,-0.635,1.221,-0.2505,-0.4976,-0....</td>\n",
       "    </tr>\n",
       "    <tr>\n",
       "      <th>1</th>\n",
       "      <td>181335</td>\n",
       "      <td>[/INST]\\nהקפטן של ספינת החלל אנטרפרייז, ג'יימס...</td>\n",
       "      <td>-1.007,-1.57,0.064,1.624,0.01962,0.5225,-0.307...</td>\n",
       "    </tr>\n",
       "    <tr>\n",
       "      <th>2</th>\n",
       "      <td>94598</td>\n",
       "      <td>[/INST]\\nהגנרל הוליסטר מגיע לפגישה עם קולונל ד...</td>\n",
       "      <td>-0.785,-1.588,-0.7036,0.8857,-0.783,-0.18,-0.2...</td>\n",
       "    </tr>\n",
       "    <tr>\n",
       "      <th>3</th>\n",
       "      <td>297110</td>\n",
       "      <td>[/INST]סטיב אוסטין, אסטרונאוט לשעבר, הוא האדם ...</td>\n",
       "      <td>-0.185,-2.111,-0.05966,1.003,-0.6733,0.2983,-0...</td>\n",
       "    </tr>\n",
       "    <tr>\n",
       "      <th>4</th>\n",
       "      <td>5919</td>\n",
       "      <td>[/INST]בסיפור, קבוצת אנשים, כולל מייקל, שרה, ...</td>\n",
       "      <td>-1.584,-1.215,-0.5728,1.715,-0.7676,-1.019,1.2...</td>\n",
       "    </tr>\n",
       "  </tbody>\n",
       "</table>\n",
       "</div>"
      ],
      "text/plain": [
       "   sub_id                                       full_summary  \\\n",
       "0  188032  [/INST]הספינה נתקלה באות מצוקה ישן, שנראה שמקו...   \n",
       "1  181335  [/INST]\\nהקפטן של ספינת החלל אנטרפרייז, ג'יימס...   \n",
       "2   94598  [/INST]\\nהגנרל הוליסטר מגיע לפגישה עם קולונל ד...   \n",
       "3  297110  [/INST]סטיב אוסטין, אסטרונאוט לשעבר, הוא האדם ...   \n",
       "4    5919   [/INST]בסיפור, קבוצת אנשים, כולל מייקל, שרה, ...   \n",
       "\n",
       "                                  combined_embedding  \n",
       "0  -1.188,-1.165,-0.635,1.221,-0.2505,-0.4976,-0....  \n",
       "1  -1.007,-1.57,0.064,1.624,0.01962,0.5225,-0.307...  \n",
       "2  -0.785,-1.588,-0.7036,0.8857,-0.783,-0.18,-0.2...  \n",
       "3  -0.185,-2.111,-0.05966,1.003,-0.6733,0.2983,-0...  \n",
       "4  -1.584,-1.215,-0.5728,1.715,-0.7676,-1.019,1.2...  "
      ]
     },
     "execution_count": 7,
     "metadata": {},
     "output_type": "execute_result"
    }
   ],
   "source": [
    "df_summery_embedding = pd.read_excel(prefix_path + \"/data/summarized_subtitles.xlsx\")\n",
    "df_summery_embedding.head()"
   ]
  },
  {
   "cell_type": "code",
   "execution_count": 8,
   "id": "db901296-28fb-4220-b24e-1c490187d8fb",
   "metadata": {},
   "outputs": [
    {
     "data": {
      "text/plain": [
       "34673"
      ]
     },
     "execution_count": 8,
     "metadata": {},
     "output_type": "execute_result"
    }
   ],
   "source": [
    "len(df_summery_embedding)"
   ]
  },
  {
   "cell_type": "code",
   "execution_count": 9,
   "id": "ec1bf3f8-2b89-4dbe-bf06-cc198d2d7b00",
   "metadata": {},
   "outputs": [
    {
     "data": {
      "text/plain": [
       "67114"
      ]
     },
     "execution_count": 9,
     "metadata": {},
     "output_type": "execute_result"
    }
   ],
   "source": [
    "len(df_imdb_sub)"
   ]
  },
  {
   "cell_type": "code",
   "execution_count": 7,
   "id": "7584f432-a4b2-4872-b5b1-187ac9482ea0",
   "metadata": {},
   "outputs": [
    {
     "data": {
      "text/plain": [
       "11863    276556.0\n",
       "11864    276557.0\n",
       "11865    228584.0\n",
       "11866    318989.0\n",
       "11867    306740.0\n",
       "11868    298567.0\n",
       "11869    298566.0\n",
       "11870    298565.0\n",
       "11871    298564.0\n",
       "11872    298591.0\n",
       "Name: sub_id, dtype: float64"
      ]
     },
     "execution_count": 7,
     "metadata": {},
     "output_type": "execute_result"
    }
   ],
   "source": [
    "df_imdb_sub.loc[11863:11872, 'sub_id']"
   ]
  },
  {
   "cell_type": "code",
   "execution_count": 6,
   "id": "52e2b5b5-7673-420e-85d7-f6225976da9e",
   "metadata": {},
   "outputs": [
    {
     "data": {
      "text/html": [
       "<div>\n",
       "<style scoped>\n",
       "    .dataframe tbody tr th:only-of-type {\n",
       "        vertical-align: middle;\n",
       "    }\n",
       "\n",
       "    .dataframe tbody tr th {\n",
       "        vertical-align: top;\n",
       "    }\n",
       "\n",
       "    .dataframe thead th {\n",
       "        text-align: right;\n",
       "    }\n",
       "</style>\n",
       "<table border=\"1\" class=\"dataframe\">\n",
       "  <thead>\n",
       "    <tr style=\"text-align: right;\">\n",
       "      <th></th>\n",
       "      <th>sub_id</th>\n",
       "      <th>full_summary</th>\n",
       "      <th>combined_embedding</th>\n",
       "    </tr>\n",
       "  </thead>\n",
       "  <tbody>\n",
       "    <tr>\n",
       "      <th>11863</th>\n",
       "      <td>276556</td>\n",
       "      <td>[/INST]\\nהפרק מתחיל עם סיכום של אירועים קודמים...</td>\n",
       "      <td>-1.522,-1.648,-0.693,1.176,-0.8237,-0.4753,0.3...</td>\n",
       "    </tr>\n",
       "    <tr>\n",
       "      <th>11864</th>\n",
       "      <td>276557</td>\n",
       "      <td>[/INST]\\nהפרק מתחיל עם סיכום של אירועים קודמים...</td>\n",
       "      <td>-1.452,-1.851,-0.5615,1.088,-0.8184,-0.1675,-0...</td>\n",
       "    </tr>\n",
       "    <tr>\n",
       "      <th>11865</th>\n",
       "      <td>228584</td>\n",
       "      <td>[/INST] על פי הטקסט, הסדרה \"מניפסט\" עוקבת אחר ...</td>\n",
       "      <td>-0.94,-2.027,-0.6274,1.291,-0.612,0.2186,-0.78...</td>\n",
       "    </tr>\n",
       "    <tr>\n",
       "      <th>11866</th>\n",
       "      <td>318989</td>\n",
       "      <td>[/INST]\\nהפרק מתמקד בסיפור של אליס, אישה טרנסג...</td>\n",
       "      <td>-2.293,-1.661,-0.2922,0.699,-0.743,-0.04044,0....</td>\n",
       "    </tr>\n",
       "    <tr>\n",
       "      <th>11867</th>\n",
       "      <td>306740</td>\n",
       "      <td>[/INST]\\nהפרק מתמקד במשחק בייסבול של קבוצת הנו...</td>\n",
       "      <td>-1.471,-1.68,-0.5093,1.568,-0.7695,0.6694,-0.4...</td>\n",
       "    </tr>\n",
       "    <tr>\n",
       "      <th>11868</th>\n",
       "      <td>298567</td>\n",
       "      <td>[/INST]\\nהפרק הזה מתמקד בקבוצת חברים שמתרגשת מ...</td>\n",
       "      <td>-0.988,-2.016,-0.9365,1.544,-0.53,0.753,-0.368...</td>\n",
       "    </tr>\n",
       "    <tr>\n",
       "      <th>11869</th>\n",
       "      <td>298566</td>\n",
       "      <td>[/INST]\\nהפרק מתמקד בקשיים של היילי וג'ף להיכנ...</td>\n",
       "      <td>-2.037,-1.413,-0.337,0.9033,-0.535,0.3145,-0.3...</td>\n",
       "    </tr>\n",
       "    <tr>\n",
       "      <th>11870</th>\n",
       "      <td>298565</td>\n",
       "      <td>[/INST]\\nהפרק מתחיל עם מציאת האבן הראשונה, שקר...</td>\n",
       "      <td>-0.546,-1.339,-0.6,0.7314,-0.891,0.4236,-0.58,...</td>\n",
       "    </tr>\n",
       "    <tr>\n",
       "      <th>11871</th>\n",
       "      <td>298564</td>\n",
       "      <td>[/INST]\\nהפרק מתמקד בסיפור של סטן, שמתאמן עם ד...</td>\n",
       "      <td>-1.388,-1.832,-0.2177,1.195,-0.4602,-0.273,-0....</td>\n",
       "    </tr>\n",
       "    <tr>\n",
       "      <th>11872</th>\n",
       "      <td>298591</td>\n",
       "      <td>[/INST]הפרק מתמקד בפסטיבל \"חוק וסדר\" שמתקיים ב...</td>\n",
       "      <td>-1.066,-2.418,0.12213,1.345,-0.6235,0.2213,-0....</td>\n",
       "    </tr>\n",
       "  </tbody>\n",
       "</table>\n",
       "</div>"
      ],
      "text/plain": [
       "       sub_id                                       full_summary  \\\n",
       "11863  276556  [/INST]\\nהפרק מתחיל עם סיכום של אירועים קודמים...   \n",
       "11864  276557  [/INST]\\nהפרק מתחיל עם סיכום של אירועים קודמים...   \n",
       "11865  228584  [/INST] על פי הטקסט, הסדרה \"מניפסט\" עוקבת אחר ...   \n",
       "11866  318989  [/INST]\\nהפרק מתמקד בסיפור של אליס, אישה טרנסג...   \n",
       "11867  306740  [/INST]\\nהפרק מתמקד במשחק בייסבול של קבוצת הנו...   \n",
       "11868  298567  [/INST]\\nהפרק הזה מתמקד בקבוצת חברים שמתרגשת מ...   \n",
       "11869  298566  [/INST]\\nהפרק מתמקד בקשיים של היילי וג'ף להיכנ...   \n",
       "11870  298565  [/INST]\\nהפרק מתחיל עם מציאת האבן הראשונה, שקר...   \n",
       "11871  298564  [/INST]\\nהפרק מתמקד בסיפור של סטן, שמתאמן עם ד...   \n",
       "11872  298591  [/INST]הפרק מתמקד בפסטיבל \"חוק וסדר\" שמתקיים ב...   \n",
       "\n",
       "                                      combined_embedding  \n",
       "11863  -1.522,-1.648,-0.693,1.176,-0.8237,-0.4753,0.3...  \n",
       "11864  -1.452,-1.851,-0.5615,1.088,-0.8184,-0.1675,-0...  \n",
       "11865  -0.94,-2.027,-0.6274,1.291,-0.612,0.2186,-0.78...  \n",
       "11866  -2.293,-1.661,-0.2922,0.699,-0.743,-0.04044,0....  \n",
       "11867  -1.471,-1.68,-0.5093,1.568,-0.7695,0.6694,-0.4...  \n",
       "11868  -0.988,-2.016,-0.9365,1.544,-0.53,0.753,-0.368...  \n",
       "11869  -2.037,-1.413,-0.337,0.9033,-0.535,0.3145,-0.3...  \n",
       "11870  -0.546,-1.339,-0.6,0.7314,-0.891,0.4236,-0.58,...  \n",
       "11871  -1.388,-1.832,-0.2177,1.195,-0.4602,-0.273,-0....  \n",
       "11872  -1.066,-2.418,0.12213,1.345,-0.6235,0.2213,-0....  "
      ]
     },
     "execution_count": 6,
     "metadata": {},
     "output_type": "execute_result"
    }
   ],
   "source": [
    "df_summery_embedding.tail(10)"
   ]
  },
  {
   "cell_type": "code",
   "execution_count": 10,
   "id": "8000a55e-7840-4470-9b21-7b2ed113d513",
   "metadata": {},
   "outputs": [
    {
     "data": {
      "text/plain": [
       "'[/INST]\\nהפרק מתחיל עם סיכום של אירועים קודמים, כולל הצעת נישואין, הקלטת אלבום, והצעת סיבוב הופעות. הדמויות המרכזיות הן מיק ודיוויד, שמתמודדים עם אתגרים שונים בחייהם האישיים והמקצועיים. מיק מודאגת מהחזרה של הוריה, בעוד שדיוויד מתכונן לקראת פתיחת בית הספר. הם מתמודדים עם בעיות שונות, כמו מציאת מתקן לתבלינים, תכנון ארוחת צהריים, והכנת תצהירים.\\n\\nהפרק ממשיך עם דיוויד ומיק שמתכוננים לקראת פתיחת בית הספר. הם מודאגים מההורים של מיק שחזרו להיות ביחד, אבל הם מנסים להתמקד בעבודה שלהם. דיוויד מתכונן לקראת פתיחת בית הספר, בעוד שמיק מתכוננת לקראת הצגת המחזה שלה.  נים ובחביתה שום דבר לא באמת מפריע לך, נכון למדת את זה בתור מורה בכיתה ג\\' .לא, לא ,האמת היא שבגלל שלמדתי את זה .הפכתי למורה בכיתה ג\\' עבדתי על התואר השני שלי ,\"בביולוגיה ימית ב\"וודס הול ,וביליתי את רוב זמני במכמורתנים ,בניתוח של אוכלוסיות המקרל האטלנטי .ופשוט החלטתי בסוף להחליף קריירה ויתרת על ספירת דגים- .אני יודע שזה מפתיע- לא, חשבתי על חייהם .של האנשים שהיו הכי חשובים לי .חוץ מבני המשפחה שלי, וכולם היו מורים .והבנתי שהחיים לא אמורים ללכת בקו ישר ,ושאם בא לי לפנות .אני יכול פשוט לעשות את זה, לפנות אני לא מסוגלת לדמיין את עצמי מו [/INST]הסיפור מתמקד בקבוצת אנשים שמנסים לפתוח אכסניה, אבל נתקלים בבעיות כמו מחסור באוכל, מיטות, וחשמל. הם מתמודדים עם אתגרים שונים, כולל ספקות לגבי אמינותם, בעיות עם חברת החשמל, וניסיונות למצוא פתרונות יצירתיים כדי להתקדם. למרות האתגרים, הם מנסים לעבוד יחד ולתמוך אחד בשני, תוך כדי שהם מתמודדים עם הלחץ של פתיחת העסק החדש. [/INST]\\nהפרק מתמקד בסיפורם של ברי ומייק, זוג נשוי טרי, שמתמודדים עם האתגרים של חיים משותפים לאחר אירוסיהם. ברי היא סופרת מצליחה שמתכוננת להצגת מחזה חדש, בעוד שמייק הוא נגר מוכשר שעובד על סט למחזה בית הספר. הם נפגשים עם חברים ודנים בחוויותיהם, כולל האתגרים של להיות על הכביש כמוזיקאי. הפרק גם מזכיר את העבר של מייק, כולל מעורבותו בנבחרת פוטבול, ואת הקריירה של ברי כסופרת. בסך הכל, הפרק מציג את המורכבות של מערכת יחסים חדשה ואת האתגרים של איזון בין עבודה לחיים אישיים. [/INST]\\nהסיפור מתמקד בחקירה פדרלית שמתנהלת נגד דמות בשם אבי, שהושעתה לאחרונה מתפקידה ב\"קפיטל מנג\\'מנט\". היא מקבלת הצעה לעבוד בחברה אחרת, \"האנטר דרו ושות\\'\", בתפקיד בכיר יותר עם שכר גבוה יותר. אבי מסרבת להצעה, בטענה שהיא רוצה להתמקד בחינוך ילדיה לערכים של עמידה על שלהם, ללא קשר לתוצאות. היא גם מציינת שהיא רוצה לעשות תיאטרון בכל מקום, לא רק בניו יורק.\\n\\nהסיפור כולל גם את ברי, שכותבת מחזות וספר המבוססים על משפחתה וחבריה. היא מתמודדת עם בעיות חשמל בדירתה, ובעלה, לורה, כועס על הוריה של ברי על כך שהדברים לא מתנהלים כמתוכנן.\\n\\nהסיפור מסתיים בהצהרה של ברי ולורה שהם י [/INST]בסיפור, משפחה חוגגת את חג המולד עם בגדי גוף תואמים של איילים, פותחת מתנות, ואוכלת כריכים רטובים. הם מתמודדים עם אתגרים בעבודה ובמערכות יחסים, אבל בסופו של דבר, הם מתאחדים ומוצאים שמחה בדברים הקטנים. [/INST]\\nהפרק מתמקד במאבק של דניאל, עורכת דין, למצוא איזון בין עבודתה האינטנסיבית לבין חיי המשפחה שלה. היא מבקשת עזרה מאביה, נלסון, כדי לנהל את ענייניה היומיומיים, וגם מקבלת עזרה מקונור, עורך דין צעיר שעובד איתה. דניאל מתמודדת עם אתגרים אישיים ומקצועיים, כולל מערכת היחסים המתוחה שלה עם הוריה, והמעורבות שלה בקרן פורטר. היא גם מתמודדת עם האתגר של להיות אם חד-הורית, ועם הלחץ של עבודתה. הפרק כולל דיאלוג בין דמויות שונות, כולל דניאל, אביה, קונור, ואמה. [/INST]ברי, גיבורת הסיפור, עברה תקופה קשה לאחר גירושיה, והיא מתקשה להתקדם בחייה. היא מחליטה לעזור לברי, דמות ספרותית שהיא יצרה, להתקדם בקריירה שלה כסופרת. ברי מקבלת את ההצעה, ובסופו של דבר, היא מגלה את עצמה האמיתית, את ברי האמיתית, דרך כתיבת ספרה.\\n\\nהעלילה מתמקדת בברי, סופרת שמתקשה להתקדם בחייה לאחר גירושיה. היא מחליטה לעזור לברי, דמות ספרותית שהיא יצרה, להתקדם בקריירה שלה כסופרת. ברי מקבלת את ההצעה, ובסופו של דבר, היא מגלה את עצמה האמיתית, את ברי האמיתית, דרך כתיבת ספרה.\\n\\nהדמויות העיקריות הן ברי, הסופרת, וברי, הדמות הספרותית שהיא יצרה. יש גם את אביה של [/INST]\\nהפרק מתחיל עם הצהרה של הדמות הראשית, שמסבירה שהיא לא באמת מודאגת לגבי המצב שלהם, כי הכל מסתדר והם מאושרים ביחד. הם מתכננים את העתיד המשותף שלהם, כולל את קבלת הפנים, אבל הם מודעים לכך שזה יכול להיות רק חלום שיימשך לנצח. למרות זאת, הם מנסים ליהנות מהרגע ומצפים לעתיד.\\n\\nהפרק ממשיך עם הדמויות המרכזיות, כולל האם, שמודאגת לגבי מצבם של בנה וארוסתו. היא רוצה שהבן שלה יהיה מאושר, אבל היא מודאגת מהמצב הנוכחי.\\n\\nהפרק כולל גם את המפגש של הדמות הראשית עם חברותיה, שתומכות בה ומעודדות אותה. הן מזכירות את העבר המשותף שלהן, ומציעות תמיכה ועידוד.\\n\\nהפ'"
      ]
     },
     "execution_count": 10,
     "metadata": {},
     "output_type": "execute_result"
    }
   ],
   "source": [
    "df_summery_embedding.loc[11863]['full_summary']"
   ]
  },
  {
   "cell_type": "code",
   "execution_count": null,
   "id": "398c1885-1edc-41ee-bc05-6838a25a02a6",
   "metadata": {},
   "outputs": [],
   "source": []
  }
 ],
 "metadata": {
  "kernelspec": {
   "display_name": "Python (myenv)",
   "language": "python",
   "name": "myenv"
  },
  "language_info": {
   "codemirror_mode": {
    "name": "ipython",
    "version": 3
   },
   "file_extension": ".py",
   "mimetype": "text/x-python",
   "name": "python",
   "nbconvert_exporter": "python",
   "pygments_lexer": "ipython3",
   "version": "3.12.4"
  }
 },
 "nbformat": 4,
 "nbformat_minor": 5
}
